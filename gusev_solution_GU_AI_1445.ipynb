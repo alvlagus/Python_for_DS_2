{
 "cells": [
  {
   "cell_type": "markdown",
   "id": "33f728c9-830b-401e-a42e-4c560c798bb9",
   "metadata": {
    "tags": []
   },
   "source": [
    "# Credit Default\n",
    "Geekbrains Python for Data Science course competition"
   ]
  },
  {
   "cell_type": "markdown",
   "id": "04167b5a-8470-4988-9248-08cec9d18fff",
   "metadata": {
    "jp-MarkdownHeadingCollapsed": true,
    "tags": []
   },
   "source": [
    "## Задача"
   ]
  },
  {
   "cell_type": "markdown",
   "id": "86d72fe5-8950-4f57-ae05-7cbcdda42ec2",
   "metadata": {},
   "source": [
    "\n",
    "\n",
    "Требуется, на основании имеющихся данных о клиентах банка, построить модель, используя обучающий датасет, для прогнозирования невыполнения долговых обязательств по текущему кредиту. Выполнить прогноз для примеров из тестового датасета.\n",
    "\n",
    "**Целевая переменная**\n",
    "\n",
    "Credit Default - факт невыполнения кредитных обязательств\n",
    "\n",
    "**Метрика качества**\n",
    "\n",
    "F1-score (sklearn.metrics.f1_score)\n",
    "\n",
    "**Требования к решению**\n",
    "\n",
    "*Целевая метрика*\n",
    "* F1 > 0.5\n",
    "* Метрика оценивается по качеству прогноза для главного класса (1 - просрочка по кредиту)\n",
    "\n",
    "*Решение должно содержать*\n",
    "1. Тетрадка Jupyter Notebook с кодом Вашего решения\n",
    "2. Укажите свой ник на kaggle\n",
    "\n",
    "*Рекомендации для файла с кодом (ipynb)*\n",
    "1. Файл должен содержать заголовки и комментарии (markdown)\n",
    "2. Повторяющиеся операции лучше оформлять в виде функций\n",
    "3. По возможности добавлять графики, описывающие данные (около 3-5)\n",
    "4. Добавлять только лучшую модель, то есть не включать в код все варианты решения проекта\n",
    "5. Скрипт проекта должен отрабатывать от начала и до конца (от загрузки данных до выгрузки предсказаний)\n",
    "6. Весь проект должен быть в одном скрипте (файл ipynb).\n"
   ]
  },
  {
   "cell_type": "markdown",
   "id": "f2e0d406-3728-4624-8be3-3e062f38b883",
   "metadata": {
    "tags": []
   },
   "source": [
    "## Примерное описание этапов выполнения курсового проекта<a class=\"anchor\" id=\"course_project_steps\"></a>"
   ]
  },
  {
   "cell_type": "markdown",
   "id": "af7dda23-a03b-48da-8de0-9cb91e389b9c",
   "metadata": {
    "tags": []
   },
   "source": [
    "**Построение модели классификации**\n",
    "1. Обзор обучающего датасета\n",
    "2. Анализ данных\n",
    "3. Обработка пропусков\n",
    "4. Обработка выбросов\n",
    "5. Отбор признаков\n",
    "6. Балансировка классов\n",
    "7. Подбор моделей, получение бейзлана\n",
    "8. Выбор наилучшей модели, настройка гиперпараметров\n",
    "9. Проверка качества, борьба с переобучением\n",
    "10. Интерпретация результатов\n",
    "\n",
    "**Прогнозирование на тестовом датасете**\n",
    "1. Выполнить для тестового датасета те же этапы обработки и построения признаков\n",
    "2. Спрогнозировать целевую переменную, используя модель, построенную на обучающем датасете\n",
    "3. Прогнозы должны быть для всех примеров из тестового датасета (для всех строк)\n",
    "4. Соблюдать исходный порядок примеров из тестового датасета"
   ]
  },
  {
   "cell_type": "markdown",
   "id": "9a61d489-0e51-4da0-9334-f42d81cff3e3",
   "metadata": {
    "tags": []
   },
   "source": [
    "## Содержание"
   ]
  },
  {
   "cell_type": "markdown",
   "id": "a92c480c-b33e-4fd0-be3f-a61427673796",
   "metadata": {},
   "source": [
    "1. Подключение библиотек и скриптов\n",
    "2. Используемые функции\n",
    "2. Загрузка исходных данных\n",
    "3. Обзор данных\n",
    "2. Анализ данных\n",
    "3. Обработка пропусков\n",
    "4. Обработка выбросов\n",
    "5. Отбор признаков\n",
    "6. Балансировка классов\n",
    "7. Подбор моделей, получение бейзлана\n",
    "8. Выбор наилучшей модели, настройка гиперпараметров\n",
    "9. Проверка качества, борьба с переобучением\n",
    "10. Интерпретация результатов"
   ]
  },
  {
   "cell_type": "markdown",
   "id": "626f3b08-01a6-4461-a70a-ef2976239835",
   "metadata": {
    "tags": []
   },
   "source": [
    "## 1. Подключение библиотек и скриптов"
   ]
  },
  {
   "cell_type": "code",
   "execution_count": 1,
   "id": "824ea1e8-b556-4fe9-82da-e150c7458ba3",
   "metadata": {},
   "outputs": [],
   "source": [
    "# Scientific libraries\n",
    "import numpy as np\n",
    "import pandas as pd\n",
    "\n",
    "# Visual libraries\n",
    "import matplotlib\n",
    "import matplotlib.pyplot as plt\n",
    "import seaborn as sns\n",
    "\n",
    "%matplotlib inline\n",
    "matplotlib.rcParams.update({'font.size': 14})\n",
    "plt.style.use('seaborn')\n",
    "\n",
    "# Model libraries\n",
    "import catboost\n",
    "from catboost import *\n"
   ]
  },
  {
   "cell_type": "code",
   "execution_count": 2,
   "id": "7f830e3c-5c70-4adc-ba04-7f90a4df7501",
   "metadata": {},
   "outputs": [],
   "source": [
    "import warnings\n",
    "warnings.filterwarnings('ignore')"
   ]
  },
  {
   "cell_type": "markdown",
   "id": "4689cd3e-b98c-43bd-9812-d20fa85ebac2",
   "metadata": {},
   "source": [
    "## 2. Используемые функции"
   ]
  },
  {
   "cell_type": "code",
   "execution_count": 3,
   "id": "cde73d02-a27f-4da6-bc7b-0db7c40dfa21",
   "metadata": {},
   "outputs": [],
   "source": [
    "# Выполнение итерации по всем столбцам датафрейма, чтобы изменить тип данных для уменьшения используемой памяти.\n",
    "\n",
    "def reduce_mem_usage(df):   \n",
    "    \n",
    "    start_mem = df.memory_usage().sum() / 1024**2\n",
    "    print('Memory usage of dataframe is {:.2f} MB'.format(start_mem))\n",
    "    \n",
    "    for col in df.columns:\n",
    "        col_type = df[col].dtype\n",
    "        \n",
    "        if col_type != object:\n",
    "            c_min = df[col].min()\n",
    "            c_max = df[col].max()\n",
    "            if str(col_type)[:3] == 'int':\n",
    "                if c_min > np.iinfo(np.int8).min and c_max < np.iinfo(np.int8).max:\n",
    "                    df[col] = df[col].astype(np.int8)\n",
    "                elif c_min > np.iinfo(np.int16).min and c_max < np.iinfo(np.int16).max:\n",
    "                    df[col] = df[col].astype(np.int16)\n",
    "                elif c_min > np.iinfo(np.int32).min and c_max < np.iinfo(np.int32).max:\n",
    "                    df[col] = df[col].astype(np.int32)\n",
    "                elif c_min > np.iinfo(np.int64).min and c_max < np.iinfo(np.int64).max:\n",
    "                    df[col] = df[col].astype(np.int64)  \n",
    "            else:\n",
    "                if c_min > np.finfo(np.float32).min and c_max < np.finfo(np.float32).max:\n",
    "                    df[col] = df[col].astype(np.float32)\n",
    "                else:\n",
    "                    df[col] = df[col].astype(np.float64)\n",
    "        else:\n",
    "            df[col] = df[col].astype('category')\n",
    "\n",
    "    end_mem = df.memory_usage().sum() / 1024**2\n",
    "    print('Memory usage after optimization is: {:.2f} MB'.format(end_mem))\n",
    "    print('Decreased by {:.1f}%'.format(100 * (start_mem - end_mem) / start_mem))\n",
    "    \n",
    "    return df"
   ]
  },
  {
   "cell_type": "markdown",
   "id": "b1e79a82-9e20-4724-94b9-5e03ad12ff9e",
   "metadata": {
    "tags": []
   },
   "source": [
    "## 2. Загрузка исходных данных"
   ]
  },
  {
   "cell_type": "markdown",
   "id": "85b8dbe9-8149-492f-83af-ac99bd67b13e",
   "metadata": {},
   "source": [
    "**Описание датасета**\n",
    "\n",
    "* **Home Ownership** - домовладение\n",
    "* **Annual Income** - годовой доход\n",
    "* **Years in current job** - количество лет на текущем месте работы\n",
    "* **Tax Liens** - налоговые обременения\n",
    "* **Number of Open Accounts** - количество открытых счетов\n",
    "* **Years of Credit History** - количество лет кредитной истории\n",
    "* **Maximum Open Credit** - наибольший открытый кредит (максимальная сумма, которая когда-либо была доступна клиенту)\n",
    "* **Number of Credit Problems** - количество проблем с кредитом\n",
    "* **Months since last delinquent** - количество месяцев с последней просрочки платежа\n",
    "* **Bankruptcies** - банкротства\n",
    "* **Purpose** - цель кредита\n",
    "* **Term** - срок кредита\n",
    "* **Current Loan Amount** - текущая сумма кредита (сумма, которую еще предстоит выплатить клиенту)\n",
    "* **Current Credit Balance** - текущий кредитный баланс (сумма, которую может тратить клиент с кредитного счета)\n",
    "* **Monthly Debt** - ежемесячный долг\n",
    "* **Credit Score** - баллы кредитного рейтинга\n",
    "* **Credit Default** - факт невыполнения кредитных обязательств (0 - погашен вовремя, 1 - просрочка)"
   ]
  },
  {
   "cell_type": "markdown",
   "id": "04eb34c3-693a-4408-8ebb-82f2736bce1e",
   "metadata": {},
   "source": [
    "### Пути к директориям и файлам"
   ]
  },
  {
   "cell_type": "code",
   "execution_count": 4,
   "id": "7dafa774-db68-4cb9-bd8f-9e12c28a0f31",
   "metadata": {},
   "outputs": [],
   "source": [
    "TRAIN_DATA_PATH = './train.csv'\n",
    "TEST_DATASET_PATH = './test.csv'"
   ]
  },
  {
   "cell_type": "markdown",
   "id": "015e8a73-40d6-46d1-ba4a-bb16b31f59db",
   "metadata": {},
   "source": [
    "### Загрузка данных"
   ]
  },
  {
   "cell_type": "code",
   "execution_count": 5,
   "id": "560b32fc-f56c-4c28-b0b2-f098b1392408",
   "metadata": {},
   "outputs": [
    {
     "data": {
      "text/html": [
       "<div>\n",
       "<style scoped>\n",
       "    .dataframe tbody tr th:only-of-type {\n",
       "        vertical-align: middle;\n",
       "    }\n",
       "\n",
       "    .dataframe tbody tr th {\n",
       "        vertical-align: top;\n",
       "    }\n",
       "\n",
       "    .dataframe thead th {\n",
       "        text-align: right;\n",
       "    }\n",
       "</style>\n",
       "<table border=\"1\" class=\"dataframe\">\n",
       "  <thead>\n",
       "    <tr style=\"text-align: right;\">\n",
       "      <th></th>\n",
       "      <th>Home Ownership</th>\n",
       "      <th>Annual Income</th>\n",
       "      <th>Years in current job</th>\n",
       "      <th>Tax Liens</th>\n",
       "      <th>Number of Open Accounts</th>\n",
       "      <th>Years of Credit History</th>\n",
       "      <th>Maximum Open Credit</th>\n",
       "      <th>Number of Credit Problems</th>\n",
       "      <th>Months since last delinquent</th>\n",
       "      <th>Bankruptcies</th>\n",
       "      <th>Purpose</th>\n",
       "      <th>Term</th>\n",
       "      <th>Current Loan Amount</th>\n",
       "      <th>Current Credit Balance</th>\n",
       "      <th>Monthly Debt</th>\n",
       "      <th>Credit Score</th>\n",
       "      <th>Credit Default</th>\n",
       "    </tr>\n",
       "  </thead>\n",
       "  <tbody>\n",
       "    <tr>\n",
       "      <th>0</th>\n",
       "      <td>Own Home</td>\n",
       "      <td>482087.0</td>\n",
       "      <td>NaN</td>\n",
       "      <td>0.0</td>\n",
       "      <td>11.0</td>\n",
       "      <td>26.3</td>\n",
       "      <td>685960.0</td>\n",
       "      <td>1.0</td>\n",
       "      <td>NaN</td>\n",
       "      <td>1.0</td>\n",
       "      <td>debt consolidation</td>\n",
       "      <td>Short Term</td>\n",
       "      <td>99999999.0</td>\n",
       "      <td>47386.0</td>\n",
       "      <td>7914.0</td>\n",
       "      <td>749.0</td>\n",
       "      <td>0</td>\n",
       "    </tr>\n",
       "    <tr>\n",
       "      <th>1</th>\n",
       "      <td>Own Home</td>\n",
       "      <td>1025487.0</td>\n",
       "      <td>10+ years</td>\n",
       "      <td>0.0</td>\n",
       "      <td>15.0</td>\n",
       "      <td>15.3</td>\n",
       "      <td>1181730.0</td>\n",
       "      <td>0.0</td>\n",
       "      <td>NaN</td>\n",
       "      <td>0.0</td>\n",
       "      <td>debt consolidation</td>\n",
       "      <td>Long Term</td>\n",
       "      <td>264968.0</td>\n",
       "      <td>394972.0</td>\n",
       "      <td>18373.0</td>\n",
       "      <td>737.0</td>\n",
       "      <td>1</td>\n",
       "    </tr>\n",
       "    <tr>\n",
       "      <th>2</th>\n",
       "      <td>Home Mortgage</td>\n",
       "      <td>751412.0</td>\n",
       "      <td>8 years</td>\n",
       "      <td>0.0</td>\n",
       "      <td>11.0</td>\n",
       "      <td>35.0</td>\n",
       "      <td>1182434.0</td>\n",
       "      <td>0.0</td>\n",
       "      <td>NaN</td>\n",
       "      <td>0.0</td>\n",
       "      <td>debt consolidation</td>\n",
       "      <td>Short Term</td>\n",
       "      <td>99999999.0</td>\n",
       "      <td>308389.0</td>\n",
       "      <td>13651.0</td>\n",
       "      <td>742.0</td>\n",
       "      <td>0</td>\n",
       "    </tr>\n",
       "    <tr>\n",
       "      <th>3</th>\n",
       "      <td>Own Home</td>\n",
       "      <td>805068.0</td>\n",
       "      <td>6 years</td>\n",
       "      <td>0.0</td>\n",
       "      <td>8.0</td>\n",
       "      <td>22.5</td>\n",
       "      <td>147400.0</td>\n",
       "      <td>1.0</td>\n",
       "      <td>NaN</td>\n",
       "      <td>1.0</td>\n",
       "      <td>debt consolidation</td>\n",
       "      <td>Short Term</td>\n",
       "      <td>121396.0</td>\n",
       "      <td>95855.0</td>\n",
       "      <td>11338.0</td>\n",
       "      <td>694.0</td>\n",
       "      <td>0</td>\n",
       "    </tr>\n",
       "    <tr>\n",
       "      <th>4</th>\n",
       "      <td>Rent</td>\n",
       "      <td>776264.0</td>\n",
       "      <td>8 years</td>\n",
       "      <td>0.0</td>\n",
       "      <td>13.0</td>\n",
       "      <td>13.6</td>\n",
       "      <td>385836.0</td>\n",
       "      <td>1.0</td>\n",
       "      <td>NaN</td>\n",
       "      <td>0.0</td>\n",
       "      <td>debt consolidation</td>\n",
       "      <td>Short Term</td>\n",
       "      <td>125840.0</td>\n",
       "      <td>93309.0</td>\n",
       "      <td>7180.0</td>\n",
       "      <td>719.0</td>\n",
       "      <td>0</td>\n",
       "    </tr>\n",
       "  </tbody>\n",
       "</table>\n",
       "</div>"
      ],
      "text/plain": [
       "  Home Ownership  Annual Income Years in current job  Tax Liens  \\\n",
       "0       Own Home       482087.0                  NaN        0.0   \n",
       "1       Own Home      1025487.0            10+ years        0.0   \n",
       "2  Home Mortgage       751412.0              8 years        0.0   \n",
       "3       Own Home       805068.0              6 years        0.0   \n",
       "4           Rent       776264.0              8 years        0.0   \n",
       "\n",
       "   Number of Open Accounts  Years of Credit History  Maximum Open Credit  \\\n",
       "0                     11.0                     26.3             685960.0   \n",
       "1                     15.0                     15.3            1181730.0   \n",
       "2                     11.0                     35.0            1182434.0   \n",
       "3                      8.0                     22.5             147400.0   \n",
       "4                     13.0                     13.6             385836.0   \n",
       "\n",
       "   Number of Credit Problems  Months since last delinquent  Bankruptcies  \\\n",
       "0                        1.0                           NaN           1.0   \n",
       "1                        0.0                           NaN           0.0   \n",
       "2                        0.0                           NaN           0.0   \n",
       "3                        1.0                           NaN           1.0   \n",
       "4                        1.0                           NaN           0.0   \n",
       "\n",
       "              Purpose        Term  Current Loan Amount  \\\n",
       "0  debt consolidation  Short Term           99999999.0   \n",
       "1  debt consolidation   Long Term             264968.0   \n",
       "2  debt consolidation  Short Term           99999999.0   \n",
       "3  debt consolidation  Short Term             121396.0   \n",
       "4  debt consolidation  Short Term             125840.0   \n",
       "\n",
       "   Current Credit Balance  Monthly Debt  Credit Score  Credit Default  \n",
       "0                 47386.0        7914.0         749.0               0  \n",
       "1                394972.0       18373.0         737.0               1  \n",
       "2                308389.0       13651.0         742.0               0  \n",
       "3                 95855.0       11338.0         694.0               0  \n",
       "4                 93309.0        7180.0         719.0               0  "
      ]
     },
     "execution_count": 5,
     "metadata": {},
     "output_type": "execute_result"
    }
   ],
   "source": [
    "df_train = pd.read_csv(TRAIN_DATA_PATH)\n",
    "df_train.head()"
   ]
  },
  {
   "cell_type": "code",
   "execution_count": 6,
   "id": "d6983a4c-de7e-4e7f-a253-0642380d17da",
   "metadata": {
    "tags": []
   },
   "outputs": [
    {
     "data": {
      "text/html": [
       "<div>\n",
       "<style scoped>\n",
       "    .dataframe tbody tr th:only-of-type {\n",
       "        vertical-align: middle;\n",
       "    }\n",
       "\n",
       "    .dataframe tbody tr th {\n",
       "        vertical-align: top;\n",
       "    }\n",
       "\n",
       "    .dataframe thead th {\n",
       "        text-align: right;\n",
       "    }\n",
       "</style>\n",
       "<table border=\"1\" class=\"dataframe\">\n",
       "  <thead>\n",
       "    <tr style=\"text-align: right;\">\n",
       "      <th></th>\n",
       "      <th>Home Ownership</th>\n",
       "      <th>Annual Income</th>\n",
       "      <th>Years in current job</th>\n",
       "      <th>Tax Liens</th>\n",
       "      <th>Number of Open Accounts</th>\n",
       "      <th>Years of Credit History</th>\n",
       "      <th>Maximum Open Credit</th>\n",
       "      <th>Number of Credit Problems</th>\n",
       "      <th>Months since last delinquent</th>\n",
       "      <th>Bankruptcies</th>\n",
       "      <th>Purpose</th>\n",
       "      <th>Term</th>\n",
       "      <th>Current Loan Amount</th>\n",
       "      <th>Current Credit Balance</th>\n",
       "      <th>Monthly Debt</th>\n",
       "      <th>Credit Score</th>\n",
       "    </tr>\n",
       "  </thead>\n",
       "  <tbody>\n",
       "    <tr>\n",
       "      <th>0</th>\n",
       "      <td>Rent</td>\n",
       "      <td>NaN</td>\n",
       "      <td>4 years</td>\n",
       "      <td>0.0</td>\n",
       "      <td>9.0</td>\n",
       "      <td>12.5</td>\n",
       "      <td>220968.0</td>\n",
       "      <td>0.0</td>\n",
       "      <td>70.0</td>\n",
       "      <td>0.0</td>\n",
       "      <td>debt consolidation</td>\n",
       "      <td>Short Term</td>\n",
       "      <td>162470.0</td>\n",
       "      <td>105906.0</td>\n",
       "      <td>6813.0</td>\n",
       "      <td>NaN</td>\n",
       "    </tr>\n",
       "    <tr>\n",
       "      <th>1</th>\n",
       "      <td>Rent</td>\n",
       "      <td>231838.0</td>\n",
       "      <td>1 year</td>\n",
       "      <td>0.0</td>\n",
       "      <td>6.0</td>\n",
       "      <td>32.7</td>\n",
       "      <td>55946.0</td>\n",
       "      <td>0.0</td>\n",
       "      <td>8.0</td>\n",
       "      <td>0.0</td>\n",
       "      <td>educational expenses</td>\n",
       "      <td>Short Term</td>\n",
       "      <td>78298.0</td>\n",
       "      <td>46037.0</td>\n",
       "      <td>2318.0</td>\n",
       "      <td>699.0</td>\n",
       "    </tr>\n",
       "    <tr>\n",
       "      <th>2</th>\n",
       "      <td>Home Mortgage</td>\n",
       "      <td>1152540.0</td>\n",
       "      <td>3 years</td>\n",
       "      <td>0.0</td>\n",
       "      <td>10.0</td>\n",
       "      <td>13.7</td>\n",
       "      <td>204600.0</td>\n",
       "      <td>0.0</td>\n",
       "      <td>NaN</td>\n",
       "      <td>0.0</td>\n",
       "      <td>debt consolidation</td>\n",
       "      <td>Short Term</td>\n",
       "      <td>200178.0</td>\n",
       "      <td>146490.0</td>\n",
       "      <td>18729.0</td>\n",
       "      <td>7260.0</td>\n",
       "    </tr>\n",
       "    <tr>\n",
       "      <th>3</th>\n",
       "      <td>Home Mortgage</td>\n",
       "      <td>1220313.0</td>\n",
       "      <td>10+ years</td>\n",
       "      <td>0.0</td>\n",
       "      <td>16.0</td>\n",
       "      <td>17.0</td>\n",
       "      <td>456302.0</td>\n",
       "      <td>0.0</td>\n",
       "      <td>70.0</td>\n",
       "      <td>0.0</td>\n",
       "      <td>debt consolidation</td>\n",
       "      <td>Short Term</td>\n",
       "      <td>217382.0</td>\n",
       "      <td>213199.0</td>\n",
       "      <td>27559.0</td>\n",
       "      <td>739.0</td>\n",
       "    </tr>\n",
       "    <tr>\n",
       "      <th>4</th>\n",
       "      <td>Home Mortgage</td>\n",
       "      <td>2340952.0</td>\n",
       "      <td>6 years</td>\n",
       "      <td>0.0</td>\n",
       "      <td>11.0</td>\n",
       "      <td>23.6</td>\n",
       "      <td>1207272.0</td>\n",
       "      <td>0.0</td>\n",
       "      <td>NaN</td>\n",
       "      <td>0.0</td>\n",
       "      <td>debt consolidation</td>\n",
       "      <td>Long Term</td>\n",
       "      <td>777634.0</td>\n",
       "      <td>425391.0</td>\n",
       "      <td>42605.0</td>\n",
       "      <td>706.0</td>\n",
       "    </tr>\n",
       "  </tbody>\n",
       "</table>\n",
       "</div>"
      ],
      "text/plain": [
       "  Home Ownership  Annual Income Years in current job  Tax Liens  \\\n",
       "0           Rent            NaN              4 years        0.0   \n",
       "1           Rent       231838.0               1 year        0.0   \n",
       "2  Home Mortgage      1152540.0              3 years        0.0   \n",
       "3  Home Mortgage      1220313.0            10+ years        0.0   \n",
       "4  Home Mortgage      2340952.0              6 years        0.0   \n",
       "\n",
       "   Number of Open Accounts  Years of Credit History  Maximum Open Credit  \\\n",
       "0                      9.0                     12.5             220968.0   \n",
       "1                      6.0                     32.7              55946.0   \n",
       "2                     10.0                     13.7             204600.0   \n",
       "3                     16.0                     17.0             456302.0   \n",
       "4                     11.0                     23.6            1207272.0   \n",
       "\n",
       "   Number of Credit Problems  Months since last delinquent  Bankruptcies  \\\n",
       "0                        0.0                          70.0           0.0   \n",
       "1                        0.0                           8.0           0.0   \n",
       "2                        0.0                           NaN           0.0   \n",
       "3                        0.0                          70.0           0.0   \n",
       "4                        0.0                           NaN           0.0   \n",
       "\n",
       "                Purpose        Term  Current Loan Amount  \\\n",
       "0    debt consolidation  Short Term             162470.0   \n",
       "1  educational expenses  Short Term              78298.0   \n",
       "2    debt consolidation  Short Term             200178.0   \n",
       "3    debt consolidation  Short Term             217382.0   \n",
       "4    debt consolidation   Long Term             777634.0   \n",
       "\n",
       "   Current Credit Balance  Monthly Debt  Credit Score  \n",
       "0                105906.0        6813.0           NaN  \n",
       "1                 46037.0        2318.0         699.0  \n",
       "2                146490.0       18729.0        7260.0  \n",
       "3                213199.0       27559.0         739.0  \n",
       "4                425391.0       42605.0         706.0  "
      ]
     },
     "execution_count": 6,
     "metadata": {},
     "output_type": "execute_result"
    }
   ],
   "source": [
    "df_test = pd.read_csv(TEST_DATASET_PATH)\n",
    "df_test.head()"
   ]
  },
  {
   "cell_type": "code",
   "execution_count": 7,
   "id": "efb5cd0d-d1aa-467d-8817-e1bac3a36aac",
   "metadata": {},
   "outputs": [
    {
     "name": "stdout",
     "output_type": "stream",
     "text": [
      "Тренировочный датасет df_train: (7500, 17)\n",
      "Тестовый датасет df_test: (2500, 16)\n"
     ]
    }
   ],
   "source": [
    "print('Тренировочный датасет df_train:', df_train.shape)\n",
    "print('Тестовый датасет df_test:', df_test.shape)"
   ]
  },
  {
   "cell_type": "markdown",
   "id": "2e81dd82-4f06-443b-85f7-97718beb44ee",
   "metadata": {},
   "source": [
    "### Проверка датасетов на соответствие"
   ]
  },
  {
   "cell_type": "code",
   "execution_count": 8,
   "id": "1086b38b-462f-4a48-8c69-942e0d95b058",
   "metadata": {},
   "outputs": [
    {
     "data": {
      "text/plain": [
       "True"
      ]
     },
     "execution_count": 8,
     "metadata": {},
     "output_type": "execute_result"
    }
   ],
   "source": [
    "df_train.shape[1] - 1 == df_test.shape[1]"
   ]
  },
  {
   "cell_type": "markdown",
   "id": "90c02aaa-2a20-45c2-abcf-c83e36b9e7ed",
   "metadata": {},
   "source": [
    "Тренировочный и тестовый датасеты имеют одинаковую структуру"
   ]
  },
  {
   "cell_type": "markdown",
   "id": "f9bbab4c-6e48-4eda-9d63-51df2d4e72ee",
   "metadata": {},
   "source": [
    "## 3. Обзор данных"
   ]
  },
  {
   "cell_type": "code",
   "execution_count": 9,
   "id": "e65a176c-814a-4bb8-98d6-cba400061ad8",
   "metadata": {},
   "outputs": [
    {
     "name": "stdout",
     "output_type": "stream",
     "text": [
      "<class 'pandas.core.frame.DataFrame'>\n",
      "RangeIndex: 7500 entries, 0 to 7499\n",
      "Data columns (total 17 columns):\n",
      " #   Column                        Non-Null Count  Dtype  \n",
      "---  ------                        --------------  -----  \n",
      " 0   Home Ownership                7500 non-null   object \n",
      " 1   Annual Income                 5943 non-null   float64\n",
      " 2   Years in current job          7129 non-null   object \n",
      " 3   Tax Liens                     7500 non-null   float64\n",
      " 4   Number of Open Accounts       7500 non-null   float64\n",
      " 5   Years of Credit History       7500 non-null   float64\n",
      " 6   Maximum Open Credit           7500 non-null   float64\n",
      " 7   Number of Credit Problems     7500 non-null   float64\n",
      " 8   Months since last delinquent  3419 non-null   float64\n",
      " 9   Bankruptcies                  7486 non-null   float64\n",
      " 10  Purpose                       7500 non-null   object \n",
      " 11  Term                          7500 non-null   object \n",
      " 12  Current Loan Amount           7500 non-null   float64\n",
      " 13  Current Credit Balance        7500 non-null   float64\n",
      " 14  Monthly Debt                  7500 non-null   float64\n",
      " 15  Credit Score                  5943 non-null   float64\n",
      " 16  Credit Default                7500 non-null   int64  \n",
      "dtypes: float64(12), int64(1), object(4)\n",
      "memory usage: 996.2+ KB\n"
     ]
    }
   ],
   "source": [
    "df_train.info()"
   ]
  },
  {
   "cell_type": "markdown",
   "id": "fb24fca0-92f8-430d-a237-e18d9c761f51",
   "metadata": {},
   "source": [
    "Имеются пропуски в параметрах Annual Income, Years in current job, Months since last delinquent, Bankruptcies, Credit Score"
   ]
  },
  {
   "cell_type": "code",
   "execution_count": 10,
   "id": "ab742879-3064-4aa4-bf30-175aae7bc85b",
   "metadata": {},
   "outputs": [
    {
     "name": "stdout",
     "output_type": "stream",
     "text": [
      "<class 'pandas.core.frame.DataFrame'>\n",
      "RangeIndex: 2500 entries, 0 to 2499\n",
      "Data columns (total 16 columns):\n",
      " #   Column                        Non-Null Count  Dtype  \n",
      "---  ------                        --------------  -----  \n",
      " 0   Home Ownership                2500 non-null   object \n",
      " 1   Annual Income                 1987 non-null   float64\n",
      " 2   Years in current job          2414 non-null   object \n",
      " 3   Tax Liens                     2500 non-null   float64\n",
      " 4   Number of Open Accounts       2500 non-null   float64\n",
      " 5   Years of Credit History       2500 non-null   float64\n",
      " 6   Maximum Open Credit           2500 non-null   float64\n",
      " 7   Number of Credit Problems     2500 non-null   float64\n",
      " 8   Months since last delinquent  1142 non-null   float64\n",
      " 9   Bankruptcies                  2497 non-null   float64\n",
      " 10  Purpose                       2500 non-null   object \n",
      " 11  Term                          2500 non-null   object \n",
      " 12  Current Loan Amount           2500 non-null   float64\n",
      " 13  Current Credit Balance        2500 non-null   float64\n",
      " 14  Monthly Debt                  2500 non-null   float64\n",
      " 15  Credit Score                  1987 non-null   float64\n",
      "dtypes: float64(12), object(4)\n",
      "memory usage: 312.6+ KB\n"
     ]
    }
   ],
   "source": [
    "df_test.info()"
   ]
  },
  {
   "cell_type": "markdown",
   "id": "1de13708-bfaa-4dad-8b23-91183c8a2ea5",
   "metadata": {},
   "source": [
    "Аналогично тренировочному датасету, видем пропуски в параметрах Annual Income, Years in current job, Months since last delinquent, Bankruptcies, Credit Score"
   ]
  },
  {
   "cell_type": "markdown",
   "id": "b2bf717a-4512-417e-8dff-f648e6dad79e",
   "metadata": {},
   "source": [
    "### Обзор целевой переменной"
   ]
  },
  {
   "cell_type": "markdown",
   "id": "b333c3ff-44a4-4073-8af0-8a2b66953a11",
   "metadata": {},
   "source": [
    "Credit Default - факт невыполнения кредитных обязательств (0 - погашен вовремя, 1 - просрочка)"
   ]
  },
  {
   "cell_type": "code",
   "execution_count": 11,
   "id": "fb419f97-1e38-450e-acb5-2edf5fdefbc6",
   "metadata": {},
   "outputs": [
    {
     "data": {
      "text/plain": [
       "0    5387\n",
       "1    2113\n",
       "Name: Credit Default, dtype: int64"
      ]
     },
     "execution_count": 11,
     "metadata": {},
     "output_type": "execute_result"
    }
   ],
   "source": [
    "df_train['Credit Default'].value_counts()"
   ]
  },
  {
   "cell_type": "code",
   "execution_count": 12,
   "id": "4478777a-cb05-4b89-8605-7b7cdd0e4c9e",
   "metadata": {},
   "outputs": [
    {
     "data": {
      "image/png": "[encoded data removed]",
      "text/plain": [
       "<Figure size 576x288 with 1 Axes>"
      ]
     },
     "metadata": {},
     "output_type": "display_data"
    }
   ],
   "source": [
    "counts = df_train['Credit Default']. value_counts()\n",
    "\n",
    "plt.figure(figsize=(8,4))\n",
    "plt.title('Распределение Credit Default')\n",
    "sns.barplot(counts.index, counts.values)\n",
    "plt.xlabel('Тип кредита (1-просрочка, 0 - оплата вовремя)')\n",
    "plt.ylabel('Значение')\n",
    "plt.show()"
   ]
  },
  {
   "cell_type": "markdown",
   "id": "81251122-dfdb-4eae-8e86-daf580a9a87d",
   "metadata": {},
   "source": [
    "Метрика оценивается по качеству прогноза для главного класса (1 - просрочка по кредиту).\n",
    "Присутствует разбалансировка. Количество просроченных кредитов - 28,2%. Осталные 71,8% просрочек не имеют.\n",
    "Пропуски отсутствуют."
   ]
  },
  {
   "cell_type": "markdown",
   "id": "010331cc-89a9-4aab-87c3-6be6d180ee29",
   "metadata": {
    "tags": []
   },
   "source": [
    "### Обзор количественных признаков"
   ]
  },
  {
   "cell_type": "code",
   "execution_count": 13,
   "id": "4e24593b-aef4-4717-a460-9790920c6f9e",
   "metadata": {
    "tags": []
   },
   "outputs": [
    {
     "data": {
      "text/html": [
       "<div>\n",
       "<style scoped>\n",
       "    .dataframe tbody tr th:only-of-type {\n",
       "        vertical-align: middle;\n",
       "    }\n",
       "\n",
       "    .dataframe tbody tr th {\n",
       "        vertical-align: top;\n",
       "    }\n",
       "\n",
       "    .dataframe thead th {\n",
       "        text-align: right;\n",
       "    }\n",
       "</style>\n",
       "<table border=\"1\" class=\"dataframe\">\n",
       "  <thead>\n",
       "    <tr style=\"text-align: right;\">\n",
       "      <th></th>\n",
       "      <th>count</th>\n",
       "      <th>mean</th>\n",
       "      <th>std</th>\n",
       "      <th>min</th>\n",
       "      <th>25%</th>\n",
       "      <th>50%</th>\n",
       "      <th>75%</th>\n",
       "      <th>max</th>\n",
       "    </tr>\n",
       "  </thead>\n",
       "  <tbody>\n",
       "    <tr>\n",
       "      <th>Annual Income</th>\n",
       "      <td>5943.0</td>\n",
       "      <td>1.366392e+06</td>\n",
       "      <td>8.453392e+05</td>\n",
       "      <td>164597.0</td>\n",
       "      <td>844341.0</td>\n",
       "      <td>1168386.0</td>\n",
       "      <td>1640137.00</td>\n",
       "      <td>1.014934e+07</td>\n",
       "    </tr>\n",
       "    <tr>\n",
       "      <th>Tax Liens</th>\n",
       "      <td>7500.0</td>\n",
       "      <td>3.013333e-02</td>\n",
       "      <td>2.716035e-01</td>\n",
       "      <td>0.0</td>\n",
       "      <td>0.0</td>\n",
       "      <td>0.0</td>\n",
       "      <td>0.00</td>\n",
       "      <td>7.000000e+00</td>\n",
       "    </tr>\n",
       "    <tr>\n",
       "      <th>Number of Open Accounts</th>\n",
       "      <td>7500.0</td>\n",
       "      <td>1.113093e+01</td>\n",
       "      <td>4.908924e+00</td>\n",
       "      <td>2.0</td>\n",
       "      <td>8.0</td>\n",
       "      <td>10.0</td>\n",
       "      <td>14.00</td>\n",
       "      <td>4.300000e+01</td>\n",
       "    </tr>\n",
       "    <tr>\n",
       "      <th>Years of Credit History</th>\n",
       "      <td>7500.0</td>\n",
       "      <td>1.831747e+01</td>\n",
       "      <td>7.041946e+00</td>\n",
       "      <td>4.0</td>\n",
       "      <td>13.5</td>\n",
       "      <td>17.0</td>\n",
       "      <td>21.80</td>\n",
       "      <td>5.770000e+01</td>\n",
       "    </tr>\n",
       "    <tr>\n",
       "      <th>Maximum Open Credit</th>\n",
       "      <td>7500.0</td>\n",
       "      <td>9.451537e+05</td>\n",
       "      <td>1.602622e+07</td>\n",
       "      <td>0.0</td>\n",
       "      <td>279229.5</td>\n",
       "      <td>478159.0</td>\n",
       "      <td>793501.50</td>\n",
       "      <td>1.304726e+09</td>\n",
       "    </tr>\n",
       "    <tr>\n",
       "      <th>Number of Credit Problems</th>\n",
       "      <td>7500.0</td>\n",
       "      <td>1.700000e-01</td>\n",
       "      <td>4.985978e-01</td>\n",
       "      <td>0.0</td>\n",
       "      <td>0.0</td>\n",
       "      <td>0.0</td>\n",
       "      <td>0.00</td>\n",
       "      <td>7.000000e+00</td>\n",
       "    </tr>\n",
       "    <tr>\n",
       "      <th>Months since last delinquent</th>\n",
       "      <td>3419.0</td>\n",
       "      <td>3.469260e+01</td>\n",
       "      <td>2.168881e+01</td>\n",
       "      <td>0.0</td>\n",
       "      <td>16.0</td>\n",
       "      <td>32.0</td>\n",
       "      <td>50.00</td>\n",
       "      <td>1.180000e+02</td>\n",
       "    </tr>\n",
       "    <tr>\n",
       "      <th>Bankruptcies</th>\n",
       "      <td>7486.0</td>\n",
       "      <td>1.171520e-01</td>\n",
       "      <td>3.471917e-01</td>\n",
       "      <td>0.0</td>\n",
       "      <td>0.0</td>\n",
       "      <td>0.0</td>\n",
       "      <td>0.00</td>\n",
       "      <td>4.000000e+00</td>\n",
       "    </tr>\n",
       "    <tr>\n",
       "      <th>Current Loan Amount</th>\n",
       "      <td>7500.0</td>\n",
       "      <td>1.187318e+07</td>\n",
       "      <td>3.192612e+07</td>\n",
       "      <td>11242.0</td>\n",
       "      <td>180169.0</td>\n",
       "      <td>309573.0</td>\n",
       "      <td>519882.00</td>\n",
       "      <td>1.000000e+08</td>\n",
       "    </tr>\n",
       "    <tr>\n",
       "      <th>Current Credit Balance</th>\n",
       "      <td>7500.0</td>\n",
       "      <td>2.898332e+05</td>\n",
       "      <td>3.178714e+05</td>\n",
       "      <td>0.0</td>\n",
       "      <td>114256.5</td>\n",
       "      <td>209323.0</td>\n",
       "      <td>360406.25</td>\n",
       "      <td>6.506797e+06</td>\n",
       "    </tr>\n",
       "    <tr>\n",
       "      <th>Monthly Debt</th>\n",
       "      <td>7500.0</td>\n",
       "      <td>1.831445e+04</td>\n",
       "      <td>1.192676e+04</td>\n",
       "      <td>0.0</td>\n",
       "      <td>10067.5</td>\n",
       "      <td>16076.5</td>\n",
       "      <td>23818.00</td>\n",
       "      <td>1.366790e+05</td>\n",
       "    </tr>\n",
       "    <tr>\n",
       "      <th>Credit Score</th>\n",
       "      <td>5943.0</td>\n",
       "      <td>1.151087e+03</td>\n",
       "      <td>1.604451e+03</td>\n",
       "      <td>585.0</td>\n",
       "      <td>711.0</td>\n",
       "      <td>731.0</td>\n",
       "      <td>743.00</td>\n",
       "      <td>7.510000e+03</td>\n",
       "    </tr>\n",
       "    <tr>\n",
       "      <th>Credit Default</th>\n",
       "      <td>7500.0</td>\n",
       "      <td>2.817333e-01</td>\n",
       "      <td>4.498740e-01</td>\n",
       "      <td>0.0</td>\n",
       "      <td>0.0</td>\n",
       "      <td>0.0</td>\n",
       "      <td>1.00</td>\n",
       "      <td>1.000000e+00</td>\n",
       "    </tr>\n",
       "  </tbody>\n",
       "</table>\n",
       "</div>"
      ],
      "text/plain": [
       "                               count          mean           std       min  \\\n",
       "Annual Income                 5943.0  1.366392e+06  8.453392e+05  164597.0   \n",
       "Tax Liens                     7500.0  3.013333e-02  2.716035e-01       0.0   \n",
       "Number of Open Accounts       7500.0  1.113093e+01  4.908924e+00       2.0   \n",
       "Years of Credit History       7500.0  1.831747e+01  7.041946e+00       4.0   \n",
       "Maximum Open Credit           7500.0  9.451537e+05  1.602622e+07       0.0   \n",
       "Number of Credit Problems     7500.0  1.700000e-01  4.985978e-01       0.0   \n",
       "Months since last delinquent  3419.0  3.469260e+01  2.168881e+01       0.0   \n",
       "Bankruptcies                  7486.0  1.171520e-01  3.471917e-01       0.0   \n",
       "Current Loan Amount           7500.0  1.187318e+07  3.192612e+07   11242.0   \n",
       "Current Credit Balance        7500.0  2.898332e+05  3.178714e+05       0.0   \n",
       "Monthly Debt                  7500.0  1.831445e+04  1.192676e+04       0.0   \n",
       "Credit Score                  5943.0  1.151087e+03  1.604451e+03     585.0   \n",
       "Credit Default                7500.0  2.817333e-01  4.498740e-01       0.0   \n",
       "\n",
       "                                   25%        50%         75%           max  \n",
       "Annual Income                 844341.0  1168386.0  1640137.00  1.014934e+07  \n",
       "Tax Liens                          0.0        0.0        0.00  7.000000e+00  \n",
       "Number of Open Accounts            8.0       10.0       14.00  4.300000e+01  \n",
       "Years of Credit History           13.5       17.0       21.80  5.770000e+01  \n",
       "Maximum Open Credit           279229.5   478159.0   793501.50  1.304726e+09  \n",
       "Number of Credit Problems          0.0        0.0        0.00  7.000000e+00  \n",
       "Months since last delinquent      16.0       32.0       50.00  1.180000e+02  \n",
       "Bankruptcies                       0.0        0.0        0.00  4.000000e+00  \n",
       "Current Loan Amount           180169.0   309573.0   519882.00  1.000000e+08  \n",
       "Current Credit Balance        114256.5   209323.0   360406.25  6.506797e+06  \n",
       "Monthly Debt                   10067.5    16076.5    23818.00  1.366790e+05  \n",
       "Credit Score                     711.0      731.0      743.00  7.510000e+03  \n",
       "Credit Default                     0.0        0.0        1.00  1.000000e+00  "
      ]
     },
     "execution_count": 13,
     "metadata": {},
     "output_type": "execute_result"
    }
   ],
   "source": [
    "df_train.describe().T"
   ]
  },
  {
   "cell_type": "code",
   "execution_count": 14,
   "id": "0b6f0d3f-bfa4-44e4-89f0-80aa58dcc9f8",
   "metadata": {},
   "outputs": [
    {
     "data": {
      "text/html": [
       "<div>\n",
       "<style scoped>\n",
       "    .dataframe tbody tr th:only-of-type {\n",
       "        vertical-align: middle;\n",
       "    }\n",
       "\n",
       "    .dataframe tbody tr th {\n",
       "        vertical-align: top;\n",
       "    }\n",
       "\n",
       "    .dataframe thead th {\n",
       "        text-align: right;\n",
       "    }\n",
       "</style>\n",
       "<table border=\"1\" class=\"dataframe\">\n",
       "  <thead>\n",
       "    <tr style=\"text-align: right;\">\n",
       "      <th></th>\n",
       "      <th>count</th>\n",
       "      <th>mean</th>\n",
       "      <th>std</th>\n",
       "      <th>min</th>\n",
       "      <th>25%</th>\n",
       "      <th>50%</th>\n",
       "      <th>75%</th>\n",
       "      <th>max</th>\n",
       "    </tr>\n",
       "  </thead>\n",
       "  <tbody>\n",
       "    <tr>\n",
       "      <th>Annual Income</th>\n",
       "      <td>1987.0</td>\n",
       "      <td>1.366922e+06</td>\n",
       "      <td>9.171252e+05</td>\n",
       "      <td>106533.0</td>\n",
       "      <td>852311.50</td>\n",
       "      <td>1178475.0</td>\n",
       "      <td>1629734.5</td>\n",
       "      <td>14975610.0</td>\n",
       "    </tr>\n",
       "    <tr>\n",
       "      <th>Tax Liens</th>\n",
       "      <td>2500.0</td>\n",
       "      <td>3.520000e-02</td>\n",
       "      <td>3.862909e-01</td>\n",
       "      <td>0.0</td>\n",
       "      <td>0.00</td>\n",
       "      <td>0.0</td>\n",
       "      <td>0.0</td>\n",
       "      <td>15.0</td>\n",
       "    </tr>\n",
       "    <tr>\n",
       "      <th>Number of Open Accounts</th>\n",
       "      <td>2500.0</td>\n",
       "      <td>1.118440e+01</td>\n",
       "      <td>4.852774e+00</td>\n",
       "      <td>1.0</td>\n",
       "      <td>8.00</td>\n",
       "      <td>10.0</td>\n",
       "      <td>14.0</td>\n",
       "      <td>48.0</td>\n",
       "    </tr>\n",
       "    <tr>\n",
       "      <th>Years of Credit History</th>\n",
       "      <td>2500.0</td>\n",
       "      <td>1.832592e+01</td>\n",
       "      <td>7.254659e+00</td>\n",
       "      <td>3.9</td>\n",
       "      <td>13.40</td>\n",
       "      <td>17.0</td>\n",
       "      <td>22.1</td>\n",
       "      <td>53.4</td>\n",
       "    </tr>\n",
       "    <tr>\n",
       "      <th>Maximum Open Credit</th>\n",
       "      <td>2500.0</td>\n",
       "      <td>7.105704e+05</td>\n",
       "      <td>1.511983e+06</td>\n",
       "      <td>0.0</td>\n",
       "      <td>278586.00</td>\n",
       "      <td>478676.0</td>\n",
       "      <td>802598.5</td>\n",
       "      <td>54484386.0</td>\n",
       "    </tr>\n",
       "    <tr>\n",
       "      <th>Number of Credit Problems</th>\n",
       "      <td>2500.0</td>\n",
       "      <td>1.620000e-01</td>\n",
       "      <td>5.598941e-01</td>\n",
       "      <td>0.0</td>\n",
       "      <td>0.00</td>\n",
       "      <td>0.0</td>\n",
       "      <td>0.0</td>\n",
       "      <td>15.0</td>\n",
       "    </tr>\n",
       "    <tr>\n",
       "      <th>Months since last delinquent</th>\n",
       "      <td>1142.0</td>\n",
       "      <td>3.418126e+01</td>\n",
       "      <td>2.202428e+01</td>\n",
       "      <td>0.0</td>\n",
       "      <td>16.00</td>\n",
       "      <td>30.0</td>\n",
       "      <td>50.0</td>\n",
       "      <td>82.0</td>\n",
       "    </tr>\n",
       "    <tr>\n",
       "      <th>Bankruptcies</th>\n",
       "      <td>2497.0</td>\n",
       "      <td>1.069283e-01</td>\n",
       "      <td>3.571893e-01</td>\n",
       "      <td>0.0</td>\n",
       "      <td>0.00</td>\n",
       "      <td>0.0</td>\n",
       "      <td>0.0</td>\n",
       "      <td>5.0</td>\n",
       "    </tr>\n",
       "    <tr>\n",
       "      <th>Current Loan Amount</th>\n",
       "      <td>2500.0</td>\n",
       "      <td>1.215572e+07</td>\n",
       "      <td>3.226097e+07</td>\n",
       "      <td>15422.0</td>\n",
       "      <td>187126.50</td>\n",
       "      <td>322366.0</td>\n",
       "      <td>522582.5</td>\n",
       "      <td>99999999.0</td>\n",
       "    </tr>\n",
       "    <tr>\n",
       "      <th>Current Credit Balance</th>\n",
       "      <td>2500.0</td>\n",
       "      <td>2.963966e+05</td>\n",
       "      <td>3.783020e+05</td>\n",
       "      <td>0.0</td>\n",
       "      <td>110114.50</td>\n",
       "      <td>207385.0</td>\n",
       "      <td>366348.5</td>\n",
       "      <td>6030087.0</td>\n",
       "    </tr>\n",
       "    <tr>\n",
       "      <th>Monthly Debt</th>\n",
       "      <td>2500.0</td>\n",
       "      <td>1.827134e+04</td>\n",
       "      <td>1.154388e+04</td>\n",
       "      <td>93.0</td>\n",
       "      <td>10024.75</td>\n",
       "      <td>16642.5</td>\n",
       "      <td>24146.0</td>\n",
       "      <td>93555.0</td>\n",
       "    </tr>\n",
       "    <tr>\n",
       "      <th>Credit Score</th>\n",
       "      <td>1987.0</td>\n",
       "      <td>1.234517e+03</td>\n",
       "      <td>1.740219e+03</td>\n",
       "      <td>585.0</td>\n",
       "      <td>710.00</td>\n",
       "      <td>731.0</td>\n",
       "      <td>743.0</td>\n",
       "      <td>7480.0</td>\n",
       "    </tr>\n",
       "  </tbody>\n",
       "</table>\n",
       "</div>"
      ],
      "text/plain": [
       "                               count          mean           std       min  \\\n",
       "Annual Income                 1987.0  1.366922e+06  9.171252e+05  106533.0   \n",
       "Tax Liens                     2500.0  3.520000e-02  3.862909e-01       0.0   \n",
       "Number of Open Accounts       2500.0  1.118440e+01  4.852774e+00       1.0   \n",
       "Years of Credit History       2500.0  1.832592e+01  7.254659e+00       3.9   \n",
       "Maximum Open Credit           2500.0  7.105704e+05  1.511983e+06       0.0   \n",
       "Number of Credit Problems     2500.0  1.620000e-01  5.598941e-01       0.0   \n",
       "Months since last delinquent  1142.0  3.418126e+01  2.202428e+01       0.0   \n",
       "Bankruptcies                  2497.0  1.069283e-01  3.571893e-01       0.0   \n",
       "Current Loan Amount           2500.0  1.215572e+07  3.226097e+07   15422.0   \n",
       "Current Credit Balance        2500.0  2.963966e+05  3.783020e+05       0.0   \n",
       "Monthly Debt                  2500.0  1.827134e+04  1.154388e+04      93.0   \n",
       "Credit Score                  1987.0  1.234517e+03  1.740219e+03     585.0   \n",
       "\n",
       "                                    25%        50%        75%         max  \n",
       "Annual Income                 852311.50  1178475.0  1629734.5  14975610.0  \n",
       "Tax Liens                          0.00        0.0        0.0        15.0  \n",
       "Number of Open Accounts            8.00       10.0       14.0        48.0  \n",
       "Years of Credit History           13.40       17.0       22.1        53.4  \n",
       "Maximum Open Credit           278586.00   478676.0   802598.5  54484386.0  \n",
       "Number of Credit Problems          0.00        0.0        0.0        15.0  \n",
       "Months since last delinquent      16.00       30.0       50.0        82.0  \n",
       "Bankruptcies                       0.00        0.0        0.0         5.0  \n",
       "Current Loan Amount           187126.50   322366.0   522582.5  99999999.0  \n",
       "Current Credit Balance        110114.50   207385.0   366348.5   6030087.0  \n",
       "Monthly Debt                   10024.75    16642.5    24146.0     93555.0  \n",
       "Credit Score                     710.00      731.0      743.0      7480.0  "
      ]
     },
     "execution_count": 14,
     "metadata": {},
     "output_type": "execute_result"
    }
   ],
   "source": [
    "df_test.describe().T"
   ]
  },
  {
   "cell_type": "markdown",
   "id": "8facc194-7de8-4787-8c67-c06cb8d66216",
   "metadata": {},
   "source": [
    "Вызывает вопросы распределение параметров Tax Liens, Number of Credit Problems, Bankruptcies. Не похоже оно на распределение количественных переменных. Подробнее посмотрим на графиках. \n",
    "Возможно наличие выбросов в параметрах Current Loan Amount, Credit Score, Maximum Open Credit"
   ]
  },
  {
   "cell_type": "markdown",
   "id": "33a7c2c1-7633-4c71-ab4a-1b0a9772a6b8",
   "metadata": {},
   "source": [
    "### Обзор номинативных признаков"
   ]
  },
  {
   "cell_type": "code",
   "execution_count": 15,
   "id": "eb88859f-3090-4919-88a0-0d3ef40fdbe3",
   "metadata": {},
   "outputs": [
    {
     "data": {
      "text/html": [
       "<div>\n",
       "<style scoped>\n",
       "    .dataframe tbody tr th:only-of-type {\n",
       "        vertical-align: middle;\n",
       "    }\n",
       "\n",
       "    .dataframe tbody tr th {\n",
       "        vertical-align: top;\n",
       "    }\n",
       "\n",
       "    .dataframe thead th {\n",
       "        text-align: right;\n",
       "    }\n",
       "</style>\n",
       "<table border=\"1\" class=\"dataframe\">\n",
       "  <thead>\n",
       "    <tr style=\"text-align: right;\">\n",
       "      <th></th>\n",
       "      <th>count</th>\n",
       "      <th>unique</th>\n",
       "      <th>top</th>\n",
       "      <th>freq</th>\n",
       "    </tr>\n",
       "  </thead>\n",
       "  <tbody>\n",
       "    <tr>\n",
       "      <th>Home Ownership</th>\n",
       "      <td>7500</td>\n",
       "      <td>4</td>\n",
       "      <td>Home Mortgage</td>\n",
       "      <td>3637</td>\n",
       "    </tr>\n",
       "    <tr>\n",
       "      <th>Years in current job</th>\n",
       "      <td>7129</td>\n",
       "      <td>11</td>\n",
       "      <td>10+ years</td>\n",
       "      <td>2332</td>\n",
       "    </tr>\n",
       "    <tr>\n",
       "      <th>Purpose</th>\n",
       "      <td>7500</td>\n",
       "      <td>15</td>\n",
       "      <td>debt consolidation</td>\n",
       "      <td>5944</td>\n",
       "    </tr>\n",
       "    <tr>\n",
       "      <th>Term</th>\n",
       "      <td>7500</td>\n",
       "      <td>2</td>\n",
       "      <td>Short Term</td>\n",
       "      <td>5556</td>\n",
       "    </tr>\n",
       "  </tbody>\n",
       "</table>\n",
       "</div>"
      ],
      "text/plain": [
       "                     count unique                 top  freq\n",
       "Home Ownership        7500      4       Home Mortgage  3637\n",
       "Years in current job  7129     11           10+ years  2332\n",
       "Purpose               7500     15  debt consolidation  5944\n",
       "Term                  7500      2          Short Term  5556"
      ]
     },
     "execution_count": 15,
     "metadata": {},
     "output_type": "execute_result"
    }
   ],
   "source": [
    "df_train.describe(include='object').T"
   ]
  },
  {
   "cell_type": "code",
   "execution_count": 16,
   "id": "9614d672-0a11-4d8e-bd07-743af4ffdbab",
   "metadata": {},
   "outputs": [
    {
     "data": {
      "text/html": [
       "<div>\n",
       "<style scoped>\n",
       "    .dataframe tbody tr th:only-of-type {\n",
       "        vertical-align: middle;\n",
       "    }\n",
       "\n",
       "    .dataframe tbody tr th {\n",
       "        vertical-align: top;\n",
       "    }\n",
       "\n",
       "    .dataframe thead th {\n",
       "        text-align: right;\n",
       "    }\n",
       "</style>\n",
       "<table border=\"1\" class=\"dataframe\">\n",
       "  <thead>\n",
       "    <tr style=\"text-align: right;\">\n",
       "      <th></th>\n",
       "      <th>count</th>\n",
       "      <th>unique</th>\n",
       "      <th>top</th>\n",
       "      <th>freq</th>\n",
       "    </tr>\n",
       "  </thead>\n",
       "  <tbody>\n",
       "    <tr>\n",
       "      <th>Home Ownership</th>\n",
       "      <td>2500</td>\n",
       "      <td>4</td>\n",
       "      <td>Home Mortgage</td>\n",
       "      <td>1225</td>\n",
       "    </tr>\n",
       "    <tr>\n",
       "      <th>Years in current job</th>\n",
       "      <td>2414</td>\n",
       "      <td>11</td>\n",
       "      <td>10+ years</td>\n",
       "      <td>810</td>\n",
       "    </tr>\n",
       "    <tr>\n",
       "      <th>Purpose</th>\n",
       "      <td>2500</td>\n",
       "      <td>14</td>\n",
       "      <td>debt consolidation</td>\n",
       "      <td>1973</td>\n",
       "    </tr>\n",
       "    <tr>\n",
       "      <th>Term</th>\n",
       "      <td>2500</td>\n",
       "      <td>2</td>\n",
       "      <td>Short Term</td>\n",
       "      <td>1861</td>\n",
       "    </tr>\n",
       "  </tbody>\n",
       "</table>\n",
       "</div>"
      ],
      "text/plain": [
       "                     count unique                 top  freq\n",
       "Home Ownership        2500      4       Home Mortgage  1225\n",
       "Years in current job  2414     11           10+ years   810\n",
       "Purpose               2500     14  debt consolidation  1973\n",
       "Term                  2500      2          Short Term  1861"
      ]
     },
     "execution_count": 16,
     "metadata": {},
     "output_type": "execute_result"
    }
   ],
   "source": [
    "df_test.describe(include='object').T"
   ]
  },
  {
   "cell_type": "markdown",
   "id": "d2f8a0a4-6e83-45dd-9c57-b40644282f88",
   "metadata": {},
   "source": [
    "## 4. Анализ данных (Exploratory Data Analysis (EDA))"
   ]
  },
  {
   "cell_type": "markdown",
   "id": "fcb0cf08-8fa7-47d6-bff0-10829207531a",
   "metadata": {
    "jp-MarkdownHeadingCollapsed": true,
    "tags": []
   },
   "source": [
    "### Приведение типов"
   ]
  },
  {
   "cell_type": "markdown",
   "id": "fa735dfe-f157-46e6-be7d-664ee97e8a67",
   "metadata": {},
   "source": [
    "Произведя обзор исходных датасетов, можно сделать вывод, что необходимо выполнить преобразования типов данных. Для этого сначала выполним функцию, оптимизирующую память, а затем изменим тип признаков вручную."
   ]
  },
  {
   "cell_type": "code",
   "execution_count": 17,
   "id": "5582542c-fd76-41db-8040-9bc50aabdb2b",
   "metadata": {},
   "outputs": [
    {
     "name": "stdout",
     "output_type": "stream",
     "text": [
      "Memory usage of dataframe is 0.97 MB\n",
      "Memory usage after optimization is: 0.38 MB\n",
      "Decreased by 60.9%\n",
      "Memory usage of dataframe is 0.31 MB\n",
      "Memory usage after optimization is: 0.13 MB\n",
      "Decreased by 58.9%\n"
     ]
    }
   ],
   "source": [
    "df_train = reduce_mem_usage(df_train)\n",
    "df_test = reduce_mem_usage(df_test)"
   ]
  },
  {
   "cell_type": "markdown",
   "id": "9a2731c2-3003-4982-a689-50b452343199",
   "metadata": {},
   "source": [
    "for colname in ['Tax Liens', 'Number of Credit Problems', 'Bankruptcies', 'Credit Default']:\n",
    "    df_train[colname] = df_train[colname].astype('category')\n",
    "for colname in ['Tax Liens', 'Number of Credit Problems', 'Bankruptcies']:\n",
    "    df_test[colname] = df_test[colname].astype('category')"
   ]
  },
  {
   "cell_type": "code",
   "execution_count": 18,
   "id": "7ea497ae-6500-42cf-bd5e-5867b413f9af",
   "metadata": {},
   "outputs": [],
   "source": [
    "for colname in ['Tax Liens', 'Number of Credit Problems', 'Bankruptcies']:\n",
    "    df_train[colname] = df_train[colname].astype('category')\n",
    "for colname in ['Tax Liens', 'Number of Credit Problems', 'Bankruptcies']:\n",
    "    df_test[colname] = df_test[colname].astype('category')"
   ]
  },
  {
   "cell_type": "markdown",
   "id": "691c91ae-deca-4574-a8aa-0d0b2f8e159f",
   "metadata": {},
   "source": [
    "**После приведения типов имеем следующую картину**"
   ]
  },
  {
   "cell_type": "code",
   "execution_count": 19,
   "id": "9e918278-9e87-45ca-8b84-4836c300c823",
   "metadata": {},
   "outputs": [
    {
     "name": "stdout",
     "output_type": "stream",
     "text": [
      "<class 'pandas.core.frame.DataFrame'>\n",
      "RangeIndex: 7500 entries, 0 to 7499\n",
      "Data columns (total 17 columns):\n",
      " #   Column                        Non-Null Count  Dtype   \n",
      "---  ------                        --------------  -----   \n",
      " 0   Home Ownership                7500 non-null   category\n",
      " 1   Annual Income                 5943 non-null   float32 \n",
      " 2   Years in current job          7129 non-null   category\n",
      " 3   Tax Liens                     7500 non-null   category\n",
      " 4   Number of Open Accounts       7500 non-null   float32 \n",
      " 5   Years of Credit History       7500 non-null   float32 \n",
      " 6   Maximum Open Credit           7500 non-null   float32 \n",
      " 7   Number of Credit Problems     7500 non-null   category\n",
      " 8   Months since last delinquent  3419 non-null   float32 \n",
      " 9   Bankruptcies                  7486 non-null   category\n",
      " 10  Purpose                       7500 non-null   category\n",
      " 11  Term                          7500 non-null   category\n",
      " 12  Current Loan Amount           7500 non-null   float32 \n",
      " 13  Current Credit Balance        7500 non-null   float32 \n",
      " 14  Monthly Debt                  7500 non-null   float32 \n",
      " 15  Credit Score                  5943 non-null   float32 \n",
      " 16  Credit Default                7500 non-null   int8    \n",
      "dtypes: category(7), float32(9), int8(1)\n",
      "memory usage: 324.7 KB\n"
     ]
    }
   ],
   "source": [
    "df_train.info()"
   ]
  },
  {
   "cell_type": "code",
   "execution_count": 20,
   "id": "7c8ce7ed-05c6-42eb-a313-8fc1f6347885",
   "metadata": {},
   "outputs": [
    {
     "name": "stdout",
     "output_type": "stream",
     "text": [
      "<class 'pandas.core.frame.DataFrame'>\n",
      "RangeIndex: 2500 entries, 0 to 2499\n",
      "Data columns (total 16 columns):\n",
      " #   Column                        Non-Null Count  Dtype   \n",
      "---  ------                        --------------  -----   \n",
      " 0   Home Ownership                2500 non-null   category\n",
      " 1   Annual Income                 1987 non-null   float32 \n",
      " 2   Years in current job          2414 non-null   category\n",
      " 3   Tax Liens                     2500 non-null   category\n",
      " 4   Number of Open Accounts       2500 non-null   float32 \n",
      " 5   Years of Credit History       2500 non-null   float32 \n",
      " 6   Maximum Open Credit           2500 non-null   float32 \n",
      " 7   Number of Credit Problems     2500 non-null   category\n",
      " 8   Months since last delinquent  1142 non-null   float32 \n",
      " 9   Bankruptcies                  2497 non-null   category\n",
      " 10  Purpose                       2500 non-null   category\n",
      " 11  Term                          2500 non-null   category\n",
      " 12  Current Loan Amount           2500 non-null   float32 \n",
      " 13  Current Credit Balance        2500 non-null   float32 \n",
      " 14  Monthly Debt                  2500 non-null   float32 \n",
      " 15  Credit Score                  1987 non-null   float32 \n",
      "dtypes: category(7), float32(9)\n",
      "memory usage: 107.4 KB\n"
     ]
    }
   ],
   "source": [
    "df_test.info()"
   ]
  },
  {
   "cell_type": "code",
   "execution_count": 21,
   "id": "a016e25d-e837-404f-bfe7-08fe3840e79b",
   "metadata": {},
   "outputs": [
    {
     "data": {
      "text/html": [
       "<div>\n",
       "<style scoped>\n",
       "    .dataframe tbody tr th:only-of-type {\n",
       "        vertical-align: middle;\n",
       "    }\n",
       "\n",
       "    .dataframe tbody tr th {\n",
       "        vertical-align: top;\n",
       "    }\n",
       "\n",
       "    .dataframe thead th {\n",
       "        text-align: right;\n",
       "    }\n",
       "</style>\n",
       "<table border=\"1\" class=\"dataframe\">\n",
       "  <thead>\n",
       "    <tr style=\"text-align: right;\">\n",
       "      <th></th>\n",
       "      <th>count</th>\n",
       "      <th>mean</th>\n",
       "      <th>std</th>\n",
       "      <th>min</th>\n",
       "      <th>25%</th>\n",
       "      <th>50%</th>\n",
       "      <th>75%</th>\n",
       "      <th>max</th>\n",
       "    </tr>\n",
       "  </thead>\n",
       "  <tbody>\n",
       "    <tr>\n",
       "      <th>Annual Income</th>\n",
       "      <td>5943.0</td>\n",
       "      <td>1.366390e+06</td>\n",
       "      <td>8.453384e+05</td>\n",
       "      <td>164597.0</td>\n",
       "      <td>844341.0</td>\n",
       "      <td>1168386.0</td>\n",
       "      <td>1.640137e+06</td>\n",
       "      <td>1.014934e+07</td>\n",
       "    </tr>\n",
       "    <tr>\n",
       "      <th>Number of Open Accounts</th>\n",
       "      <td>7500.0</td>\n",
       "      <td>1.113093e+01</td>\n",
       "      <td>4.908937e+00</td>\n",
       "      <td>2.0</td>\n",
       "      <td>8.0</td>\n",
       "      <td>10.0</td>\n",
       "      <td>1.400000e+01</td>\n",
       "      <td>4.300000e+01</td>\n",
       "    </tr>\n",
       "    <tr>\n",
       "      <th>Years of Credit History</th>\n",
       "      <td>7500.0</td>\n",
       "      <td>1.831745e+01</td>\n",
       "      <td>7.041938e+00</td>\n",
       "      <td>4.0</td>\n",
       "      <td>13.5</td>\n",
       "      <td>17.0</td>\n",
       "      <td>2.180000e+01</td>\n",
       "      <td>5.770000e+01</td>\n",
       "    </tr>\n",
       "    <tr>\n",
       "      <th>Maximum Open Credit</th>\n",
       "      <td>7500.0</td>\n",
       "      <td>9.451526e+05</td>\n",
       "      <td>1.602614e+07</td>\n",
       "      <td>0.0</td>\n",
       "      <td>279229.5</td>\n",
       "      <td>478159.0</td>\n",
       "      <td>7.935015e+05</td>\n",
       "      <td>1.304726e+09</td>\n",
       "    </tr>\n",
       "    <tr>\n",
       "      <th>Months since last delinquent</th>\n",
       "      <td>3419.0</td>\n",
       "      <td>3.469260e+01</td>\n",
       "      <td>2.168880e+01</td>\n",
       "      <td>0.0</td>\n",
       "      <td>16.0</td>\n",
       "      <td>32.0</td>\n",
       "      <td>5.000000e+01</td>\n",
       "      <td>1.180000e+02</td>\n",
       "    </tr>\n",
       "    <tr>\n",
       "      <th>Current Loan Amount</th>\n",
       "      <td>7500.0</td>\n",
       "      <td>1.187314e+07</td>\n",
       "      <td>3.192630e+07</td>\n",
       "      <td>11242.0</td>\n",
       "      <td>180169.0</td>\n",
       "      <td>309573.0</td>\n",
       "      <td>5.198820e+05</td>\n",
       "      <td>1.000000e+08</td>\n",
       "    </tr>\n",
       "    <tr>\n",
       "      <th>Current Credit Balance</th>\n",
       "      <td>7500.0</td>\n",
       "      <td>2.898332e+05</td>\n",
       "      <td>3.178713e+05</td>\n",
       "      <td>0.0</td>\n",
       "      <td>114256.5</td>\n",
       "      <td>209323.0</td>\n",
       "      <td>3.604062e+05</td>\n",
       "      <td>6.506797e+06</td>\n",
       "    </tr>\n",
       "    <tr>\n",
       "      <th>Monthly Debt</th>\n",
       "      <td>7500.0</td>\n",
       "      <td>1.831445e+04</td>\n",
       "      <td>1.192676e+04</td>\n",
       "      <td>0.0</td>\n",
       "      <td>10067.5</td>\n",
       "      <td>16076.5</td>\n",
       "      <td>2.381800e+04</td>\n",
       "      <td>1.366790e+05</td>\n",
       "    </tr>\n",
       "    <tr>\n",
       "      <th>Credit Score</th>\n",
       "      <td>5943.0</td>\n",
       "      <td>1.151088e+03</td>\n",
       "      <td>1.604448e+03</td>\n",
       "      <td>585.0</td>\n",
       "      <td>711.0</td>\n",
       "      <td>731.0</td>\n",
       "      <td>7.430000e+02</td>\n",
       "      <td>7.510000e+03</td>\n",
       "    </tr>\n",
       "    <tr>\n",
       "      <th>Credit Default</th>\n",
       "      <td>7500.0</td>\n",
       "      <td>2.817333e-01</td>\n",
       "      <td>4.498740e-01</td>\n",
       "      <td>0.0</td>\n",
       "      <td>0.0</td>\n",
       "      <td>0.0</td>\n",
       "      <td>1.000000e+00</td>\n",
       "      <td>1.000000e+00</td>\n",
       "    </tr>\n",
       "  </tbody>\n",
       "</table>\n",
       "</div>"
      ],
      "text/plain": [
       "                               count          mean           std       min  \\\n",
       "Annual Income                 5943.0  1.366390e+06  8.453384e+05  164597.0   \n",
       "Number of Open Accounts       7500.0  1.113093e+01  4.908937e+00       2.0   \n",
       "Years of Credit History       7500.0  1.831745e+01  7.041938e+00       4.0   \n",
       "Maximum Open Credit           7500.0  9.451526e+05  1.602614e+07       0.0   \n",
       "Months since last delinquent  3419.0  3.469260e+01  2.168880e+01       0.0   \n",
       "Current Loan Amount           7500.0  1.187314e+07  3.192630e+07   11242.0   \n",
       "Current Credit Balance        7500.0  2.898332e+05  3.178713e+05       0.0   \n",
       "Monthly Debt                  7500.0  1.831445e+04  1.192676e+04       0.0   \n",
       "Credit Score                  5943.0  1.151088e+03  1.604448e+03     585.0   \n",
       "Credit Default                7500.0  2.817333e-01  4.498740e-01       0.0   \n",
       "\n",
       "                                   25%        50%           75%           max  \n",
       "Annual Income                 844341.0  1168386.0  1.640137e+06  1.014934e+07  \n",
       "Number of Open Accounts            8.0       10.0  1.400000e+01  4.300000e+01  \n",
       "Years of Credit History           13.5       17.0  2.180000e+01  5.770000e+01  \n",
       "Maximum Open Credit           279229.5   478159.0  7.935015e+05  1.304726e+09  \n",
       "Months since last delinquent      16.0       32.0  5.000000e+01  1.180000e+02  \n",
       "Current Loan Amount           180169.0   309573.0  5.198820e+05  1.000000e+08  \n",
       "Current Credit Balance        114256.5   209323.0  3.604062e+05  6.506797e+06  \n",
       "Monthly Debt                   10067.5    16076.5  2.381800e+04  1.366790e+05  \n",
       "Credit Score                     711.0      731.0  7.430000e+02  7.510000e+03  \n",
       "Credit Default                     0.0        0.0  1.000000e+00  1.000000e+00  "
      ]
     },
     "execution_count": 21,
     "metadata": {},
     "output_type": "execute_result"
    }
   ],
   "source": [
    "df_train.describe().T"
   ]
  },
  {
   "cell_type": "code",
   "execution_count": 22,
   "id": "2f5dacbb-6658-4ca1-886f-64f8e6fcafe8",
   "metadata": {},
   "outputs": [
    {
     "data": {
      "text/html": [
       "<div>\n",
       "<style scoped>\n",
       "    .dataframe tbody tr th:only-of-type {\n",
       "        vertical-align: middle;\n",
       "    }\n",
       "\n",
       "    .dataframe tbody tr th {\n",
       "        vertical-align: top;\n",
       "    }\n",
       "\n",
       "    .dataframe thead th {\n",
       "        text-align: right;\n",
       "    }\n",
       "</style>\n",
       "<table border=\"1\" class=\"dataframe\">\n",
       "  <thead>\n",
       "    <tr style=\"text-align: right;\">\n",
       "      <th></th>\n",
       "      <th>count</th>\n",
       "      <th>mean</th>\n",
       "      <th>std</th>\n",
       "      <th>min</th>\n",
       "      <th>25%</th>\n",
       "      <th>50%</th>\n",
       "      <th>75%</th>\n",
       "      <th>max</th>\n",
       "    </tr>\n",
       "  </thead>\n",
       "  <tbody>\n",
       "    <tr>\n",
       "      <th>Annual Income</th>\n",
       "      <td>1987.0</td>\n",
       "      <td>1.366921e+06</td>\n",
       "      <td>9.171245e+05</td>\n",
       "      <td>106533.0</td>\n",
       "      <td>852311.50</td>\n",
       "      <td>1178475.0</td>\n",
       "      <td>1629734.5</td>\n",
       "      <td>1.497561e+07</td>\n",
       "    </tr>\n",
       "    <tr>\n",
       "      <th>Number of Open Accounts</th>\n",
       "      <td>2500.0</td>\n",
       "      <td>1.118440e+01</td>\n",
       "      <td>4.852777e+00</td>\n",
       "      <td>1.0</td>\n",
       "      <td>8.00</td>\n",
       "      <td>10.0</td>\n",
       "      <td>14.0</td>\n",
       "      <td>4.800000e+01</td>\n",
       "    </tr>\n",
       "    <tr>\n",
       "      <th>Years of Credit History</th>\n",
       "      <td>2500.0</td>\n",
       "      <td>1.832590e+01</td>\n",
       "      <td>7.254657e+00</td>\n",
       "      <td>3.9</td>\n",
       "      <td>13.40</td>\n",
       "      <td>17.0</td>\n",
       "      <td>22.1</td>\n",
       "      <td>5.340000e+01</td>\n",
       "    </tr>\n",
       "    <tr>\n",
       "      <th>Maximum Open Credit</th>\n",
       "      <td>2500.0</td>\n",
       "      <td>7.105701e+05</td>\n",
       "      <td>1.511983e+06</td>\n",
       "      <td>0.0</td>\n",
       "      <td>278586.00</td>\n",
       "      <td>478676.0</td>\n",
       "      <td>802598.5</td>\n",
       "      <td>5.448438e+07</td>\n",
       "    </tr>\n",
       "    <tr>\n",
       "      <th>Months since last delinquent</th>\n",
       "      <td>1142.0</td>\n",
       "      <td>3.418126e+01</td>\n",
       "      <td>2.202427e+01</td>\n",
       "      <td>0.0</td>\n",
       "      <td>16.00</td>\n",
       "      <td>30.0</td>\n",
       "      <td>50.0</td>\n",
       "      <td>8.200000e+01</td>\n",
       "    </tr>\n",
       "    <tr>\n",
       "      <th>Current Loan Amount</th>\n",
       "      <td>2500.0</td>\n",
       "      <td>1.215569e+07</td>\n",
       "      <td>3.226102e+07</td>\n",
       "      <td>15422.0</td>\n",
       "      <td>187126.50</td>\n",
       "      <td>322366.0</td>\n",
       "      <td>522582.5</td>\n",
       "      <td>1.000000e+08</td>\n",
       "    </tr>\n",
       "    <tr>\n",
       "      <th>Current Credit Balance</th>\n",
       "      <td>2500.0</td>\n",
       "      <td>2.963965e+05</td>\n",
       "      <td>3.783021e+05</td>\n",
       "      <td>0.0</td>\n",
       "      <td>110114.50</td>\n",
       "      <td>207385.0</td>\n",
       "      <td>366348.5</td>\n",
       "      <td>6.030087e+06</td>\n",
       "    </tr>\n",
       "    <tr>\n",
       "      <th>Monthly Debt</th>\n",
       "      <td>2500.0</td>\n",
       "      <td>1.827130e+04</td>\n",
       "      <td>1.154388e+04</td>\n",
       "      <td>93.0</td>\n",
       "      <td>10024.75</td>\n",
       "      <td>16642.5</td>\n",
       "      <td>24146.0</td>\n",
       "      <td>9.355500e+04</td>\n",
       "    </tr>\n",
       "    <tr>\n",
       "      <th>Credit Score</th>\n",
       "      <td>1987.0</td>\n",
       "      <td>1.234517e+03</td>\n",
       "      <td>1.740217e+03</td>\n",
       "      <td>585.0</td>\n",
       "      <td>710.00</td>\n",
       "      <td>731.0</td>\n",
       "      <td>743.0</td>\n",
       "      <td>7.480000e+03</td>\n",
       "    </tr>\n",
       "  </tbody>\n",
       "</table>\n",
       "</div>"
      ],
      "text/plain": [
       "                               count          mean           std       min  \\\n",
       "Annual Income                 1987.0  1.366921e+06  9.171245e+05  106533.0   \n",
       "Number of Open Accounts       2500.0  1.118440e+01  4.852777e+00       1.0   \n",
       "Years of Credit History       2500.0  1.832590e+01  7.254657e+00       3.9   \n",
       "Maximum Open Credit           2500.0  7.105701e+05  1.511983e+06       0.0   \n",
       "Months since last delinquent  1142.0  3.418126e+01  2.202427e+01       0.0   \n",
       "Current Loan Amount           2500.0  1.215569e+07  3.226102e+07   15422.0   \n",
       "Current Credit Balance        2500.0  2.963965e+05  3.783021e+05       0.0   \n",
       "Monthly Debt                  2500.0  1.827130e+04  1.154388e+04      93.0   \n",
       "Credit Score                  1987.0  1.234517e+03  1.740217e+03     585.0   \n",
       "\n",
       "                                    25%        50%        75%           max  \n",
       "Annual Income                 852311.50  1178475.0  1629734.5  1.497561e+07  \n",
       "Number of Open Accounts            8.00       10.0       14.0  4.800000e+01  \n",
       "Years of Credit History           13.40       17.0       22.1  5.340000e+01  \n",
       "Maximum Open Credit           278586.00   478676.0   802598.5  5.448438e+07  \n",
       "Months since last delinquent      16.00       30.0       50.0  8.200000e+01  \n",
       "Current Loan Amount           187126.50   322366.0   522582.5  1.000000e+08  \n",
       "Current Credit Balance        110114.50   207385.0   366348.5  6.030087e+06  \n",
       "Monthly Debt                   10024.75    16642.5    24146.0  9.355500e+04  \n",
       "Credit Score                     710.00      731.0      743.0  7.480000e+03  "
      ]
     },
     "execution_count": 22,
     "metadata": {},
     "output_type": "execute_result"
    }
   ],
   "source": [
    "df_test.describe().T"
   ]
  },
  {
   "cell_type": "code",
   "execution_count": 23,
   "id": "d3fc4c52-9f00-4c5b-9cb8-52f7f85deba8",
   "metadata": {},
   "outputs": [
    {
     "data": {
      "text/html": [
       "<div>\n",
       "<style scoped>\n",
       "    .dataframe tbody tr th:only-of-type {\n",
       "        vertical-align: middle;\n",
       "    }\n",
       "\n",
       "    .dataframe tbody tr th {\n",
       "        vertical-align: top;\n",
       "    }\n",
       "\n",
       "    .dataframe thead th {\n",
       "        text-align: right;\n",
       "    }\n",
       "</style>\n",
       "<table border=\"1\" class=\"dataframe\">\n",
       "  <thead>\n",
       "    <tr style=\"text-align: right;\">\n",
       "      <th></th>\n",
       "      <th>count</th>\n",
       "      <th>unique</th>\n",
       "      <th>top</th>\n",
       "      <th>freq</th>\n",
       "    </tr>\n",
       "  </thead>\n",
       "  <tbody>\n",
       "    <tr>\n",
       "      <th>Home Ownership</th>\n",
       "      <td>7500</td>\n",
       "      <td>4</td>\n",
       "      <td>Home Mortgage</td>\n",
       "      <td>3637</td>\n",
       "    </tr>\n",
       "    <tr>\n",
       "      <th>Years in current job</th>\n",
       "      <td>7129</td>\n",
       "      <td>11</td>\n",
       "      <td>10+ years</td>\n",
       "      <td>2332</td>\n",
       "    </tr>\n",
       "    <tr>\n",
       "      <th>Tax Liens</th>\n",
       "      <td>7500.0</td>\n",
       "      <td>8.0</td>\n",
       "      <td>0.0</td>\n",
       "      <td>7366.0</td>\n",
       "    </tr>\n",
       "    <tr>\n",
       "      <th>Number of Credit Problems</th>\n",
       "      <td>7500.0</td>\n",
       "      <td>8.0</td>\n",
       "      <td>0.0</td>\n",
       "      <td>6469.0</td>\n",
       "    </tr>\n",
       "    <tr>\n",
       "      <th>Bankruptcies</th>\n",
       "      <td>7486.0</td>\n",
       "      <td>5.0</td>\n",
       "      <td>0.0</td>\n",
       "      <td>6660.0</td>\n",
       "    </tr>\n",
       "    <tr>\n",
       "      <th>Purpose</th>\n",
       "      <td>7500</td>\n",
       "      <td>15</td>\n",
       "      <td>debt consolidation</td>\n",
       "      <td>5944</td>\n",
       "    </tr>\n",
       "    <tr>\n",
       "      <th>Term</th>\n",
       "      <td>7500</td>\n",
       "      <td>2</td>\n",
       "      <td>Short Term</td>\n",
       "      <td>5556</td>\n",
       "    </tr>\n",
       "  </tbody>\n",
       "</table>\n",
       "</div>"
      ],
      "text/plain": [
       "                            count unique                 top    freq\n",
       "Home Ownership               7500      4       Home Mortgage    3637\n",
       "Years in current job         7129     11           10+ years    2332\n",
       "Tax Liens                  7500.0    8.0                 0.0  7366.0\n",
       "Number of Credit Problems  7500.0    8.0                 0.0  6469.0\n",
       "Bankruptcies               7486.0    5.0                 0.0  6660.0\n",
       "Purpose                      7500     15  debt consolidation    5944\n",
       "Term                         7500      2          Short Term    5556"
      ]
     },
     "execution_count": 23,
     "metadata": {},
     "output_type": "execute_result"
    }
   ],
   "source": [
    "df_train.describe(include='category').T"
   ]
  },
  {
   "cell_type": "code",
   "execution_count": 24,
   "id": "c0fcdcb8-4d12-4973-a126-de8643241e3a",
   "metadata": {},
   "outputs": [
    {
     "data": {
      "text/html": [
       "<div>\n",
       "<style scoped>\n",
       "    .dataframe tbody tr th:only-of-type {\n",
       "        vertical-align: middle;\n",
       "    }\n",
       "\n",
       "    .dataframe tbody tr th {\n",
       "        vertical-align: top;\n",
       "    }\n",
       "\n",
       "    .dataframe thead th {\n",
       "        text-align: right;\n",
       "    }\n",
       "</style>\n",
       "<table border=\"1\" class=\"dataframe\">\n",
       "  <thead>\n",
       "    <tr style=\"text-align: right;\">\n",
       "      <th></th>\n",
       "      <th>count</th>\n",
       "      <th>unique</th>\n",
       "      <th>top</th>\n",
       "      <th>freq</th>\n",
       "    </tr>\n",
       "  </thead>\n",
       "  <tbody>\n",
       "    <tr>\n",
       "      <th>Home Ownership</th>\n",
       "      <td>2500</td>\n",
       "      <td>4</td>\n",
       "      <td>Home Mortgage</td>\n",
       "      <td>1225</td>\n",
       "    </tr>\n",
       "    <tr>\n",
       "      <th>Years in current job</th>\n",
       "      <td>2414</td>\n",
       "      <td>11</td>\n",
       "      <td>10+ years</td>\n",
       "      <td>810</td>\n",
       "    </tr>\n",
       "    <tr>\n",
       "      <th>Tax Liens</th>\n",
       "      <td>2500.0</td>\n",
       "      <td>8.0</td>\n",
       "      <td>0.0</td>\n",
       "      <td>2445.0</td>\n",
       "    </tr>\n",
       "    <tr>\n",
       "      <th>Number of Credit Problems</th>\n",
       "      <td>2500.0</td>\n",
       "      <td>8.0</td>\n",
       "      <td>0.0</td>\n",
       "      <td>2177.0</td>\n",
       "    </tr>\n",
       "    <tr>\n",
       "      <th>Bankruptcies</th>\n",
       "      <td>2497.0</td>\n",
       "      <td>6.0</td>\n",
       "      <td>0.0</td>\n",
       "      <td>2252.0</td>\n",
       "    </tr>\n",
       "    <tr>\n",
       "      <th>Purpose</th>\n",
       "      <td>2500</td>\n",
       "      <td>14</td>\n",
       "      <td>debt consolidation</td>\n",
       "      <td>1973</td>\n",
       "    </tr>\n",
       "    <tr>\n",
       "      <th>Term</th>\n",
       "      <td>2500</td>\n",
       "      <td>2</td>\n",
       "      <td>Short Term</td>\n",
       "      <td>1861</td>\n",
       "    </tr>\n",
       "  </tbody>\n",
       "</table>\n",
       "</div>"
      ],
      "text/plain": [
       "                            count unique                 top    freq\n",
       "Home Ownership               2500      4       Home Mortgage    1225\n",
       "Years in current job         2414     11           10+ years     810\n",
       "Tax Liens                  2500.0    8.0                 0.0  2445.0\n",
       "Number of Credit Problems  2500.0    8.0                 0.0  2177.0\n",
       "Bankruptcies               2497.0    6.0                 0.0  2252.0\n",
       "Purpose                      2500     14  debt consolidation    1973\n",
       "Term                         2500      2          Short Term    1861"
      ]
     },
     "execution_count": 24,
     "metadata": {},
     "output_type": "execute_result"
    }
   ],
   "source": [
    "df_test.describe(include='category').T"
   ]
  },
  {
   "cell_type": "markdown",
   "id": "fd46bec8-31d3-4415-9381-6ebe29ee002b",
   "metadata": {
    "jp-MarkdownHeadingCollapsed": true,
    "tags": []
   },
   "source": [
    "### Выделение целевой переменной и групп признаков"
   ]
  },
  {
   "cell_type": "code",
   "execution_count": 27,
   "id": "16f1c5ae-a101-417d-a1cf-097e8ada7e49",
   "metadata": {},
   "outputs": [],
   "source": [
    "TARGET_NAME = 'Credit Default'\n",
    "TRAIN_FEATURE_NAMES = df_train.columns.drop(TARGET_NAME).tolist()\n",
    "df_train_cat_features = df_train.select_dtypes(include=['category'])\n",
    "df_train_num_features = df_train.drop(df_train_cat_features, axis=1)\n",
    "df_train_num_features.drop(TARGET_NAME, axis=1, inplace=True)"
   ]
  },
  {
   "cell_type": "code",
   "execution_count": 28,
   "id": "27676f52-9226-4083-9d49-994c1650c3d8",
   "metadata": {},
   "outputs": [
    {
     "data": {
      "text/plain": [
       "['Home Ownership',\n",
       " 'Years in current job',\n",
       " 'Tax Liens',\n",
       " 'Number of Credit Problems',\n",
       " 'Bankruptcies',\n",
       " 'Purpose',\n",
       " 'Term']"
      ]
     },
     "execution_count": 28,
     "metadata": {},
     "output_type": "execute_result"
    }
   ],
   "source": [
    "df_train_cat_features.columns.tolist()"
   ]
  },
  {
   "cell_type": "code",
   "execution_count": 29,
   "id": "5084262b-3c34-4104-9a62-f2f531a34184",
   "metadata": {},
   "outputs": [
    {
     "data": {
      "text/plain": [
       "['Annual Income',\n",
       " 'Number of Open Accounts',\n",
       " 'Years of Credit History',\n",
       " 'Maximum Open Credit',\n",
       " 'Months since last delinquent',\n",
       " 'Current Loan Amount',\n",
       " 'Current Credit Balance',\n",
       " 'Monthly Debt',\n",
       " 'Credit Score']"
      ]
     },
     "execution_count": 29,
     "metadata": {},
     "output_type": "execute_result"
    }
   ],
   "source": [
    "df_train_num_features.columns.tolist()"
   ]
  },
  {
   "cell_type": "markdown",
   "id": "d6763482-0739-47b5-b809-e99b6a713cc0",
   "metadata": {
    "tags": []
   },
   "source": [
    "### Количественные признаки"
   ]
  },
  {
   "cell_type": "markdown",
   "id": "0b8d009e-8c45-42c3-843f-5d964774d0e6",
   "metadata": {},
   "source": [
    "#### Корреляция с базовыми признаками"
   ]
  },
  {
   "cell_type": "code",
   "execution_count": 30,
   "id": "34f5e873-4bb5-4008-a9c6-194d99b57a80",
   "metadata": {},
   "outputs": [
    {
     "data": {
      "image/png": "[encoded data removed]",
      "text/plain": [
       "<Figure size 720x1152 with 1 Axes>"
      ]
     },
     "metadata": {},
     "output_type": "display_data"
    }
   ],
   "source": [
    "corr_with_target = df_train[TRAIN_FEATURE_NAMES + [TARGET_NAME]].corr().iloc[:-1, -1].sort_values(ascending=False)\n",
    "plt.figure(figsize=(10, 16))\n",
    "sns.barplot(x=corr_with_target.values, y=corr_with_target.index)\n",
    "plt.title('Correlation with target variable')\n",
    "plt.show()"
   ]
  },
  {
   "cell_type": "code",
   "execution_count": 31,
   "id": "10c28a0a-afd7-4be7-9161-64b4dfd87738",
   "metadata": {
    "tags": []
   },
   "outputs": [
    {
     "data": {
      "image/png": "[encoded data removed]",
      "text/plain": [
       "<Figure size 1152x1152 with 2 Axes>"
      ]
     },
     "metadata": {},
     "output_type": "display_data"
    }
   ],
   "source": [
    "corrmat = df_train.corr()\n",
    "f, ax = plt.subplots(figsize=(16, 16))\n",
    "sns.heatmap(corrmat, vmax=.8, annot=True, fmt='.2f', cmap='coolwarm', square=True);"
   ]
  },
  {
   "cell_type": "markdown",
   "id": "f34f56e9-cdef-4e65-a0a7-08f198a738db",
   "metadata": {},
   "source": [
    "#### Annual Income (Годовой доход)"
   ]
  },
  {
   "cell_type": "code",
   "execution_count": 32,
   "id": "29f36631-d3a5-412e-a9b8-adea3a78e28f",
   "metadata": {},
   "outputs": [
    {
     "data": {
      "text/plain": [
       "False    5943\n",
       "True     1557\n",
       "Name: Annual Income, dtype: int64"
      ]
     },
     "execution_count": 32,
     "metadata": {},
     "output_type": "execute_result"
    }
   ],
   "source": [
    "df_train['Annual Income'].isnull().value_counts()"
   ]
  },
  {
   "cell_type": "code",
   "execution_count": 33,
   "id": "b6fee28a-152e-4925-891b-9e79fe73bca4",
   "metadata": {},
   "outputs": [
    {
     "data": {
      "image/png": "[encoded data removed]",
      "text/plain": [
       "<Figure size 864x576 with 1 Axes>"
      ]
     },
     "metadata": {},
     "output_type": "display_data"
    }
   ],
   "source": [
    "plt.figure(figsize = (12, 8))\n",
    "\n",
    "df_train['Annual Income'].hist(bins=20)\n",
    "plt.ylabel('Количество')\n",
    "plt.xlabel('Значение признака')\n",
    "\n",
    "plt.title('Распределение Annual Income (Годовой доход)')\n",
    "plt.show()"
   ]
  },
  {
   "cell_type": "markdown",
   "id": "65593d90-dc0a-4182-bc72-e6525bbd72b0",
   "metadata": {},
   "source": [
    "Выводы:\n",
    "* 1557 пропусков, их необходимо отработать\n",
    "* Достаточно длинных хвост в право\n",
    "* Выбросов не наблюдается "
   ]
  },
  {
   "cell_type": "markdown",
   "id": "030de1af-54af-49af-bbf1-d59fa03697a2",
   "metadata": {},
   "source": [
    "#### Number of Open Accounts (Количество открытых счетов)"
   ]
  },
  {
   "cell_type": "code",
   "execution_count": 34,
   "id": "3c5df53d-f922-41cb-a69c-474f62041fa0",
   "metadata": {},
   "outputs": [
    {
     "data": {
      "text/plain": [
       "False    7500\n",
       "Name: Number of Open Accounts, dtype: int64"
      ]
     },
     "execution_count": 34,
     "metadata": {},
     "output_type": "execute_result"
    }
   ],
   "source": [
    "df_train['Number of Open Accounts'].isnull().value_counts()"
   ]
  },
  {
   "cell_type": "code",
   "execution_count": 35,
   "id": "b8b2c91f-b716-4ea0-8b7d-b4fd1a43403b",
   "metadata": {
    "tags": []
   },
   "outputs": [
    {
     "data": {
      "text/plain": [
       "2.0      28\n",
       "3.0      95\n",
       "4.0     212\n",
       "5.0     325\n",
       "6.0     504\n",
       "7.0     613\n",
       "8.0     638\n",
       "9.0     728\n",
       "10.0    677\n",
       "11.0    692\n",
       "12.0    562\n",
       "13.0    465\n",
       "14.0    420\n",
       "15.0    313\n",
       "16.0    265\n",
       "17.0    232\n",
       "18.0    143\n",
       "19.0    139\n",
       "20.0     93\n",
       "21.0     78\n",
       "22.0     49\n",
       "23.0     59\n",
       "24.0     50\n",
       "25.0     32\n",
       "26.0     12\n",
       "27.0     14\n",
       "28.0     14\n",
       "29.0     10\n",
       "30.0     11\n",
       "31.0      6\n",
       "32.0      6\n",
       "33.0      6\n",
       "34.0      2\n",
       "35.0      1\n",
       "37.0      2\n",
       "38.0      1\n",
       "41.0      1\n",
       "42.0      1\n",
       "43.0      1\n",
       "Name: Number of Open Accounts, dtype: int64"
      ]
     },
     "execution_count": 35,
     "metadata": {},
     "output_type": "execute_result"
    }
   ],
   "source": [
    "df_train['Number of Open Accounts'].value_counts().sort_index()"
   ]
  },
  {
   "cell_type": "code",
   "execution_count": 36,
   "id": "f2d90eaf-34df-49e5-9edf-68c364672856",
   "metadata": {},
   "outputs": [
    {
     "data": {
      "image/png": "[encoded data removed]",
      "text/plain": [
       "<Figure size 864x576 with 1 Axes>"
      ]
     },
     "metadata": {},
     "output_type": "display_data"
    }
   ],
   "source": [
    "plt.figure(figsize = (12, 8))\n",
    "\n",
    "df_train['Number of Open Accounts'].hist(bins=20)\n",
    "plt.ylabel('Количество')\n",
    "plt.xlabel('Значение признака')\n",
    "\n",
    "plt.title('Распределение Number of Open Accounts (Количество открытых счетов)')\n",
    "plt.show()"
   ]
  },
  {
   "cell_type": "markdown",
   "id": "b6f79c33-885a-44ed-8f9b-3984fc80f81a",
   "metadata": {},
   "source": [
    "Выводы:\n",
    "* Пропуски отсутствуют\n",
    "* Достаточно длинных хвост в право. \n",
    "* Возможно есть смысл обрезать значения больше 30 и посчитать их выбросами "
   ]
  },
  {
   "cell_type": "markdown",
   "id": "f6efcb81-abf0-45cd-8e65-9b2418131613",
   "metadata": {},
   "source": [
    "#### Years of Credit History (Количество лет кредитной истории)"
   ]
  },
  {
   "cell_type": "code",
   "execution_count": 37,
   "id": "4ba98798-3f48-4ec3-a221-2ef1e79944d3",
   "metadata": {},
   "outputs": [
    {
     "data": {
      "text/plain": [
       "False    7500\n",
       "Name: Years of Credit History, dtype: int64"
      ]
     },
     "execution_count": 37,
     "metadata": {},
     "output_type": "execute_result"
    }
   ],
   "source": [
    "df_train['Years of Credit History'].isnull().value_counts()"
   ]
  },
  {
   "cell_type": "code",
   "execution_count": 38,
   "id": "1afe0173-0690-4d2f-abca-15268946be70",
   "metadata": {
    "tags": []
   },
   "outputs": [
    {
     "data": {
      "text/plain": [
       "4.000000     1\n",
       "4.300000     1\n",
       "4.500000     2\n",
       "4.700000     2\n",
       "4.800000     4\n",
       "            ..\n",
       "51.299999    1\n",
       "51.500000    1\n",
       "51.900002    1\n",
       "52.200001    1\n",
       "57.700001    1\n",
       "Name: Years of Credit History, Length: 408, dtype: int64"
      ]
     },
     "execution_count": 38,
     "metadata": {},
     "output_type": "execute_result"
    }
   ],
   "source": [
    "df_train['Years of Credit History'].value_counts().sort_index()"
   ]
  },
  {
   "cell_type": "code",
   "execution_count": 39,
   "id": "cc3b9b13-8559-4e8a-b607-4d597c98d2e7",
   "metadata": {},
   "outputs": [
    {
     "data": {
      "image/png": "[encoded data removed]",
      "text/plain": [
       "<Figure size 864x576 with 1 Axes>"
      ]
     },
     "metadata": {},
     "output_type": "display_data"
    }
   ],
   "source": [
    "plt.figure(figsize = (12, 8))\n",
    "\n",
    "df_train['Years of Credit History'].hist(bins=20)\n",
    "plt.ylabel('Количество')\n",
    "plt.xlabel('Значение признака')\n",
    "\n",
    "plt.title('Распределение Number of Years of Credit History (Количество лет кредитной истории)')\n",
    "plt.show()"
   ]
  },
  {
   "cell_type": "markdown",
   "id": "57a2a924-e650-416a-ad02-6626f2d33a22",
   "metadata": {},
   "source": [
    "Выводы:\n",
    "\n",
    "* Пропуски отсутствуют\n",
    "* Выбросов не наблюдается "
   ]
  },
  {
   "cell_type": "markdown",
   "id": "10ed952a-2609-42d1-9fbd-a1ca2bda0037",
   "metadata": {},
   "source": [
    "#### Maximum Open Credit - наибольший открытый кредит (максимальная сумма, которая когда-либо была доступна клиенту)"
   ]
  },
  {
   "cell_type": "code",
   "execution_count": 40,
   "id": "405e80ad-24b7-434b-8d48-40b4113451f9",
   "metadata": {},
   "outputs": [
    {
     "data": {
      "text/plain": [
       "False    7500\n",
       "Name: Maximum Open Credit, dtype: int64"
      ]
     },
     "execution_count": 40,
     "metadata": {},
     "output_type": "execute_result"
    }
   ],
   "source": [
    "df_train['Maximum Open Credit'].isnull().value_counts()"
   ]
  },
  {
   "cell_type": "code",
   "execution_count": 41,
   "id": "962570e8-af88-4d70-a763-2d51b352d486",
   "metadata": {},
   "outputs": [
    {
     "data": {
      "text/plain": [
       "0.000000e+00    65\n",
       "4.334000e+03     1\n",
       "6.556000e+03     1\n",
       "6.622000e+03     1\n",
       "1.089000e+04     1\n",
       "                ..\n",
       "4.092390e+07     1\n",
       "5.756256e+07     1\n",
       "2.655129e+08     1\n",
       "3.800523e+08     1\n",
       "1.304726e+09     1\n",
       "Name: Maximum Open Credit, Length: 6963, dtype: int64"
      ]
     },
     "execution_count": 41,
     "metadata": {},
     "output_type": "execute_result"
    }
   ],
   "source": [
    "df_train['Maximum Open Credit'].value_counts().sort_index()"
   ]
  },
  {
   "cell_type": "code",
   "execution_count": 42,
   "id": "c14e5bd1-3042-4264-b2bd-c58c2f24ac17",
   "metadata": {},
   "outputs": [
    {
     "data": {
      "image/png": "[encoded data removed]",
      "text/plain": [
       "<Figure size 864x576 with 1 Axes>"
      ]
     },
     "metadata": {},
     "output_type": "display_data"
    }
   ],
   "source": [
    "plt.figure(figsize = (12, 8))\n",
    "\n",
    "mask = df_train['Maximum Open Credit'] < 2500000\n",
    "df_train.loc[mask, 'Maximum Open Credit'].hist(bins=20)\n",
    "plt.ylabel('Количество')\n",
    "plt.xlabel('Значение признака')\n",
    "\n",
    "plt.title('Распределение Maximum Open Credit - наибольший открытый кредит')\n",
    "plt.show()"
   ]
  },
  {
   "cell_type": "code",
   "execution_count": 43,
   "id": "f098cc48-9f55-48b6-9a9c-b35b2466e627",
   "metadata": {},
   "outputs": [
    {
     "data": {
      "text/plain": [
       "144"
      ]
     },
     "execution_count": 43,
     "metadata": {},
     "output_type": "execute_result"
    }
   ],
   "source": [
    "mask = df_train['Maximum Open Credit'] > 2500000\n",
    "len(df_train.loc[mask])"
   ]
  },
  {
   "cell_type": "markdown",
   "id": "2e819295-93b3-4fe1-9802-5692a7cb14b7",
   "metadata": {},
   "source": [
    "Выводы:\n",
    "\n",
    "* Пропуски отсутствуют\n",
    "* Есть длинный хвост вправо. \n",
    "* Возможно есть смысл обрезать значения больше нескольких миллионов и посчитать их выбросами "
   ]
  },
  {
   "cell_type": "markdown",
   "id": "bc15f67f-d901-4ddb-b5df-8ddffeb475c4",
   "metadata": {},
   "source": [
    "#### Months  since last delinquent -  количество месяцев с последней просрочки  платежа"
   ]
  },
  {
   "cell_type": "code",
   "execution_count": 44,
   "id": "91397d72-2650-4900-a39e-118dc827698d",
   "metadata": {},
   "outputs": [
    {
     "data": {
      "text/plain": [
       "True     4081\n",
       "False    3419\n",
       "Name: Months since last delinquent, dtype: int64"
      ]
     },
     "execution_count": 44,
     "metadata": {},
     "output_type": "execute_result"
    }
   ],
   "source": [
    "df_train['Months since last delinquent'].isnull().value_counts()"
   ]
  },
  {
   "cell_type": "code",
   "execution_count": 45,
   "id": "f58224ac-def1-45ea-bfc5-8a16326c4115",
   "metadata": {},
   "outputs": [
    {
     "data": {
      "text/plain": [
       "0.0      18\n",
       "1.0      26\n",
       "2.0      25\n",
       "3.0      30\n",
       "4.0      31\n",
       "         ..\n",
       "84.0      1\n",
       "86.0      1\n",
       "91.0      1\n",
       "92.0      1\n",
       "118.0     1\n",
       "Name: Months since last delinquent, Length: 89, dtype: int64"
      ]
     },
     "execution_count": 45,
     "metadata": {},
     "output_type": "execute_result"
    }
   ],
   "source": [
    "df_train['Months since last delinquent'].value_counts().sort_index()"
   ]
  },
  {
   "cell_type": "code",
   "execution_count": 46,
   "id": "749e1e98-1ff8-4d45-8198-b68721d387eb",
   "metadata": {},
   "outputs": [
    {
     "data": {
      "image/png": "[encoded data removed]",
      "text/plain": [
       "<Figure size 864x576 with 1 Axes>"
      ]
     },
     "metadata": {},
     "output_type": "display_data"
    }
   ],
   "source": [
    "plt.figure(figsize = (12, 8))\n",
    "\n",
    "df_train['Months since last delinquent'].hist(bins=20)\n",
    "plt.ylabel('Количество')\n",
    "plt.xlabel('Значение признака')\n",
    "\n",
    "plt.title('Распределение Months since last delinquent - количество месяцев с последней просрочки платежа')\n",
    "plt.show()"
   ]
  },
  {
   "cell_type": "markdown",
   "id": "ee59a7ce-f2a4-49c2-9acc-d223e3ccfc19",
   "metadata": {},
   "source": [
    "Выводы:\n",
    "\n",
    "* 4081 пропуск. Можно предположить, что пропуски - это отсутствие просрочки у клиентов и заменить их нулями\n",
    "* Возможно есть смысл обрезать значения больше 84, т.к. они встречаются по одному разу, а, также, присутствует отдельно стоящее значение 118, которое очень похоже на выброс "
   ]
  },
  {
   "cell_type": "markdown",
   "id": "d6c400fa-88bf-4201-a5fa-7bd16c771367",
   "metadata": {},
   "source": [
    "#### Current  Loan Amount -  текущая сумма кредита (сумма, которую  еще предстоит выплатить клиенту)"
   ]
  },
  {
   "cell_type": "code",
   "execution_count": 47,
   "id": "1b7b7491-413f-493e-9577-c75707c8fdd6",
   "metadata": {},
   "outputs": [
    {
     "data": {
      "text/plain": [
       "False    7500\n",
       "Name: Current Loan Amount, dtype: int64"
      ]
     },
     "execution_count": 47,
     "metadata": {},
     "output_type": "execute_result"
    }
   ],
   "source": [
    "df_train['Current Loan Amount'].isnull().value_counts()"
   ]
  },
  {
   "cell_type": "code",
   "execution_count": 48,
   "id": "45f31654-5b10-45bf-b155-61673472ca86",
   "metadata": {},
   "outputs": [
    {
     "data": {
      "text/plain": [
       "11242.0          1\n",
       "21472.0          2\n",
       "21516.0          1\n",
       "21560.0          1\n",
       "21582.0          1\n",
       "              ... \n",
       "788634.0         2\n",
       "788788.0         1\n",
       "788942.0         1\n",
       "789030.0         1\n",
       "100000000.0    870\n",
       "Name: Current Loan Amount, Length: 5386, dtype: int64"
      ]
     },
     "execution_count": 48,
     "metadata": {},
     "output_type": "execute_result"
    }
   ],
   "source": [
    "df_train['Current Loan Amount'].value_counts().sort_index()"
   ]
  },
  {
   "cell_type": "code",
   "execution_count": 49,
   "id": "dd2cb082-3b64-4a7b-b4c8-4028b26bb3e7",
   "metadata": {},
   "outputs": [
    {
     "data": {
      "image/png": "[encoded data removed]",
      "text/plain": [
       "<Figure size 864x576 with 1 Axes>"
      ]
     },
     "metadata": {},
     "output_type": "display_data"
    }
   ],
   "source": [
    "plt.figure(figsize = (12, 8))\n",
    "\n",
    "mask = df_train['Current Loan Amount'] < 100000000\n",
    "df_train.loc[mask, 'Current Loan Amount'].hist(bins=20)\n",
    "plt.ylabel('Количество')\n",
    "plt.xlabel('Значение признака')\n",
    "\n",
    "plt.title('Распределение Current Loan Amount - текущая сумма кредита (сумма, которую еще предстоит выплатить клиенту)')\n",
    "plt.show()"
   ]
  },
  {
   "cell_type": "code",
   "execution_count": 50,
   "id": "3d3a03c8-86c7-44fa-b089-245b36e23e51",
   "metadata": {},
   "outputs": [
    {
     "data": {
      "text/plain": [
       "870"
      ]
     },
     "execution_count": 50,
     "metadata": {},
     "output_type": "execute_result"
    }
   ],
   "source": [
    "mask = df_train['Current Loan Amount'] == 100000000\n",
    "len(df_train.loc[mask])"
   ]
  },
  {
   "cell_type": "code",
   "execution_count": 51,
   "id": "1de22e7f-fdb5-4f6c-ad5c-ead2da428969",
   "metadata": {},
   "outputs": [
    {
     "data": {
      "text/plain": [
       "count      6630.00000\n",
       "mean     309024.40625\n",
       "std      182294.00000\n",
       "min       11242.00000\n",
       "25%      172744.00000\n",
       "50%      265826.00000\n",
       "75%      430100.00000\n",
       "max      789030.00000\n",
       "Name: Current Loan Amount, dtype: float64"
      ]
     },
     "execution_count": 51,
     "metadata": {},
     "output_type": "execute_result"
    }
   ],
   "source": [
    "mask = df_train['Current Loan Amount'] < 100000000\n",
    "df_train.loc[mask, 'Current Loan Amount'].describe()"
   ]
  },
  {
   "cell_type": "markdown",
   "id": "42d2bb36-4dad-4284-b304-82732d0b115b",
   "metadata": {},
   "source": [
    "Выводы:\n",
    "\n",
    "* Пропусков нет\n",
    "* Возможно есть выбросы со значением 100000000 в количестве 870 шт. Выбросы можно заменить медианой или модой."
   ]
  },
  {
   "cell_type": "markdown",
   "id": "33e60f11-fe48-42cf-851f-ffcc45149100",
   "metadata": {},
   "source": [
    "#### Current  Credit Balance -  текущий кредитный баланс (сумма, которую  может тратить клиент с кредитного  счета)"
   ]
  },
  {
   "cell_type": "code",
   "execution_count": 52,
   "id": "07f4dc84-ea32-446c-bdd7-e7707825d01a",
   "metadata": {},
   "outputs": [
    {
     "data": {
      "text/plain": [
       "False    7500\n",
       "Name: Current Credit Balance, dtype: int64"
      ]
     },
     "execution_count": 52,
     "metadata": {},
     "output_type": "execute_result"
    }
   ],
   "source": [
    "df_train['Current Credit Balance'].isnull().value_counts()"
   ]
  },
  {
   "cell_type": "code",
   "execution_count": 53,
   "id": "f2d0d5fc-c337-4f91-83d7-ffe67b3bab10",
   "metadata": {},
   "outputs": [
    {
     "data": {
      "text/plain": [
       "0.0          53\n",
       "19.0          3\n",
       "57.0          2\n",
       "76.0          2\n",
       "95.0          1\n",
       "             ..\n",
       "4209659.0     1\n",
       "4249673.0     1\n",
       "4367245.0     1\n",
       "4720132.0     1\n",
       "6506797.0     1\n",
       "Name: Current Credit Balance, Length: 6592, dtype: int64"
      ]
     },
     "execution_count": 53,
     "metadata": {},
     "output_type": "execute_result"
    }
   ],
   "source": [
    "df_train['Current Credit Balance'].value_counts().sort_index()"
   ]
  },
  {
   "cell_type": "code",
   "execution_count": 54,
   "id": "2e80d28d-9471-4b5c-97eb-64b1bef292c8",
   "metadata": {},
   "outputs": [
    {
     "data": {
      "image/png": "[encoded data removed]",
      "text/plain": [
       "<Figure size 864x576 with 1 Axes>"
      ]
     },
     "metadata": {},
     "output_type": "display_data"
    }
   ],
   "source": [
    "plt.figure(figsize = (12, 8))\n",
    "\n",
    "mask = df_train['Current Credit Balance'] < 3000000\n",
    "df_train.loc[mask, 'Current Credit Balance'].hist(bins=20)\n",
    "plt.ylabel('Количество')\n",
    "plt.xlabel('Значение признака')\n",
    "\n",
    "plt.title('Распределение Current Credit Balance - текущий кредитный баланс (сумма, которую может тратить клиент с кредитного счета)')\n",
    "plt.show()"
   ]
  },
  {
   "cell_type": "code",
   "execution_count": 55,
   "id": "468d09c8-293b-4e5b-87af-0cc6355424a0",
   "metadata": {},
   "outputs": [
    {
     "data": {
      "text/plain": [
       "10"
      ]
     },
     "execution_count": 55,
     "metadata": {},
     "output_type": "execute_result"
    }
   ],
   "source": [
    "mask = df_train['Current Credit Balance'] > 3000000\n",
    "len(df_train.loc[mask])"
   ]
  },
  {
   "cell_type": "markdown",
   "id": "3f222dd7-19f2-48f0-9e34-119dcbe1b944",
   "metadata": {},
   "source": [
    "Выводы:\n",
    "\n",
    "* Пропусков нет\n",
    "* Есть длинный хвост вправо.\n",
    "* Выбросов не обнаружено"
   ]
  },
  {
   "cell_type": "markdown",
   "id": "0f391579-57c8-40cc-9237-6fd3126b023c",
   "metadata": {},
   "source": [
    "#### Monthly  Debt -  ежемесячный долг"
   ]
  },
  {
   "cell_type": "code",
   "execution_count": 56,
   "id": "91065e3a-4bbd-4111-abb9-0a1f04f35f2f",
   "metadata": {},
   "outputs": [
    {
     "data": {
      "text/plain": [
       "False    7500\n",
       "Name: Monthly Debt, dtype: int64"
      ]
     },
     "execution_count": 56,
     "metadata": {},
     "output_type": "execute_result"
    }
   ],
   "source": [
    "df_train['Monthly Debt'].isnull().value_counts()"
   ]
  },
  {
   "cell_type": "code",
   "execution_count": 57,
   "id": "842aafa0-71aa-4b8a-8e88-db2a9e1b2f4b",
   "metadata": {},
   "outputs": [
    {
     "data": {
      "text/plain": [
       "0.0         6\n",
       "17.0        1\n",
       "21.0        1\n",
       "42.0        1\n",
       "57.0        1\n",
       "           ..\n",
       "96177.0     1\n",
       "100091.0    1\n",
       "104036.0    1\n",
       "110311.0    1\n",
       "136679.0    1\n",
       "Name: Monthly Debt, Length: 6716, dtype: int64"
      ]
     },
     "execution_count": 57,
     "metadata": {},
     "output_type": "execute_result"
    }
   ],
   "source": [
    "df_train['Monthly Debt'].value_counts().sort_index()"
   ]
  },
  {
   "cell_type": "code",
   "execution_count": 58,
   "id": "790c1973-a4d3-418b-a730-9a0e6ff46e22",
   "metadata": {},
   "outputs": [
    {
     "data": {
      "image/png": "[encoded data removed]",
      "text/plain": [
       "<Figure size 864x576 with 1 Axes>"
      ]
     },
     "metadata": {},
     "output_type": "display_data"
    }
   ],
   "source": [
    "plt.figure(figsize = (12, 8))\n",
    "\n",
    "df_train['Monthly Debt'].hist(bins=20)\n",
    "plt.ylabel('Количество')\n",
    "plt.xlabel('Значение признака')\n",
    "\n",
    "plt.title('Распределение Monthly Debt - ежемесячный долг')\n",
    "plt.show()"
   ]
  },
  {
   "cell_type": "markdown",
   "id": "ddcd4753-5a2a-44b3-a8f2-564f0fc0ab62",
   "metadata": {},
   "source": [
    "Выводы:\n",
    "\n",
    "* Пропусков нет\n",
    "* Есть длинный хвост вправо.\n",
    "* Выбросов не обнаружено"
   ]
  },
  {
   "cell_type": "markdown",
   "id": "b9b7c031-cc6d-471a-83e1-74e53f6593d3",
   "metadata": {},
   "source": [
    "#### Credit  Score -  баллы кредитного рейтинга"
   ]
  },
  {
   "cell_type": "code",
   "execution_count": 59,
   "id": "4f8a579a-4e22-421d-a4c9-8234f9ed460e",
   "metadata": {},
   "outputs": [
    {
     "data": {
      "text/plain": [
       "False    5943\n",
       "True     1557\n",
       "Name: Credit Score, dtype: int64"
      ]
     },
     "execution_count": 59,
     "metadata": {},
     "output_type": "execute_result"
    }
   ],
   "source": [
    "df_train['Credit Score'].isnull().value_counts()"
   ]
  },
  {
   "cell_type": "code",
   "execution_count": 60,
   "id": "e885d49d-f7fa-4538-81f4-0cf5d2e041d9",
   "metadata": {},
   "outputs": [
    {
     "data": {
      "text/plain": [
       "662.0      6\n",
       "663.0     14\n",
       "664.0      8\n",
       "665.0     12\n",
       "666.0     10\n",
       "          ..\n",
       "7470.0     4\n",
       "7480.0     6\n",
       "7490.0     2\n",
       "7500.0     2\n",
       "7510.0     2\n",
       "Name: Credit Score, Length: 200, dtype: int64"
      ]
     },
     "execution_count": 60,
     "metadata": {},
     "output_type": "execute_result"
    }
   ],
   "source": [
    "df_train['Credit Score'].value_counts().sort_index().tail(200)"
   ]
  },
  {
   "cell_type": "code",
   "execution_count": 61,
   "id": "cfbeb6ae-39ad-4956-865b-5d27298509f3",
   "metadata": {},
   "outputs": [
    {
     "data": {
      "image/png": "[encoded data removed]",
      "text/plain": [
       "<Figure size 864x576 with 1 Axes>"
      ]
     },
     "metadata": {},
     "output_type": "display_data"
    }
   ],
   "source": [
    "plt.figure(figsize = (12, 8))\n",
    "\n",
    "#mask = df_train['Credit Score'] < 1000\n",
    "#df_train.loc[mask, 'Credit Score'].hist(bins=20)\n",
    "df_train['Credit Score'].hist(bins=20)\n",
    "plt.ylabel('Количество')\n",
    "plt.xlabel('Значение признака')\n",
    "\n",
    "plt.title('Распределение Credit Score - баллы кредитного рейтинга')\n",
    "plt.show()"
   ]
  },
  {
   "cell_type": "code",
   "execution_count": 62,
   "id": "186ff890-f183-43f0-b987-8d3dbfe5479f",
   "metadata": {},
   "outputs": [
    {
     "data": {
      "text/plain": [
       "400"
      ]
     },
     "execution_count": 62,
     "metadata": {},
     "output_type": "execute_result"
    }
   ],
   "source": [
    "mask = df_train['Credit Score'] > 1000\n",
    "len(df_train.loc[mask])"
   ]
  },
  {
   "cell_type": "markdown",
   "id": "4e8858f0-d6e5-4207-a407-a8f65688c63f",
   "metadata": {},
   "source": [
    "Выводы:\n",
    "\n",
    "* 1557 пропусков. Точно столько же, как и у признака Annual Income. Их необходимо отработать, заменив медианой или модой \n",
    "* Есть 400 аномально большими значениями (> 6000),которые можно отнести в выбросам. Их необходимо отработать, например, разделив на 10.  "
   ]
  },
  {
   "cell_type": "markdown",
   "id": "03082ed7-ef47-4233-b406-649b53605ffa",
   "metadata": {
    "tags": []
   },
   "source": [
    "### Категориальные признаки"
   ]
  },
  {
   "cell_type": "code",
   "execution_count": 63,
   "id": "e981f597-045f-42f1-99e4-700829b26db6",
   "metadata": {},
   "outputs": [
    {
     "name": "stdout",
     "output_type": "stream",
     "text": [
      "Home Ownership\n",
      "\n",
      "Home Mortgage    3637\n",
      "Rent             3204\n",
      "Own Home          647\n",
      "Have Mortgage      12\n",
      "Name: Home Ownership, dtype: int64\n",
      "****************************************************************************************************\n",
      "\n",
      "Years in current job\n",
      "\n",
      "10+ years    2332\n",
      "2 years       705\n",
      "3 years       620\n",
      "< 1 year      563\n",
      "5 years       516\n",
      "1 year        504\n",
      "4 years       469\n",
      "6 years       426\n",
      "7 years       396\n",
      "8 years       339\n",
      "9 years       259\n",
      "Name: Years in current job, dtype: int64\n",
      "****************************************************************************************************\n",
      "\n",
      "Tax Liens\n",
      "\n",
      "0.0    7366\n",
      "1.0      83\n",
      "2.0      30\n",
      "3.0      10\n",
      "4.0       6\n",
      "5.0       2\n",
      "6.0       2\n",
      "7.0       1\n",
      "Name: Tax Liens, dtype: int64\n",
      "****************************************************************************************************\n",
      "\n",
      "Number of Credit Problems\n",
      "\n",
      "0.0    6469\n",
      "1.0     882\n",
      "2.0      93\n",
      "3.0      35\n",
      "4.0       9\n",
      "5.0       7\n",
      "6.0       4\n",
      "7.0       1\n",
      "Name: Number of Credit Problems, dtype: int64\n",
      "****************************************************************************************************\n",
      "\n",
      "Bankruptcies\n",
      "\n",
      "0.0    6660\n",
      "1.0     786\n",
      "2.0      31\n",
      "3.0       7\n",
      "4.0       2\n",
      "Name: Bankruptcies, dtype: int64\n",
      "****************************************************************************************************\n",
      "\n",
      "Purpose\n",
      "\n",
      "debt consolidation      5944\n",
      "other                    665\n",
      "home improvements        412\n",
      "business loan            129\n",
      "buy a car                 96\n",
      "medical bills             71\n",
      "major purchase            40\n",
      "take a trip               37\n",
      "buy house                 34\n",
      "small business            26\n",
      "wedding                   15\n",
      "moving                    11\n",
      "educational expenses      10\n",
      "vacation                   8\n",
      "renewable energy           2\n",
      "Name: Purpose, dtype: int64\n",
      "****************************************************************************************************\n",
      "\n",
      "Term\n",
      "\n",
      "Short Term    5556\n",
      "Long Term     1944\n",
      "Name: Term, dtype: int64\n",
      "****************************************************************************************************\n",
      "\n"
     ]
    }
   ],
   "source": [
    "for cat_colname in df_train.select_dtypes(include='category').columns:\n",
    "    print(str(cat_colname) + '\\n\\n' + str(df_train[cat_colname].value_counts()) + '\\n' + '*' * 100 + '\\n')"
   ]
  },
  {
   "cell_type": "markdown",
   "id": "c92ddcd0-e21e-4595-ba16-6ea894758cd1",
   "metadata": {},
   "source": [
    "<u>**Выводы (df_train):**</u>  \n",
    "\n",
    "**Home  Ownership (Домовладение)**  \n",
    "Пропусков нет  \n",
    "Не понятно в чем разница между Home Mortgage (ипотека на жильё) и Have Mortgage (есть ипотека). Возможно, есть смысл объединить.   \n",
    "Выбросов не замечено.  \n",
    "\n",
    "**Years  in current job (Количество лет на текущем месте работы)**  \n",
    "371 пропуск. Можно их рассматривать как безработных и заменить на 0.  \n",
    "Большинство у категории 10+ лет работы - 31,1%  \n",
    "Выбросов не замечено.  \n",
    "\n",
    "**Tax Liens (Налоговые обременения)**  \n",
    "Нет пропусков.   \n",
    "Возможно, это закодированное значение налоговой нагрузки, т.к. представить, что у 98,2% отсутствуют налоговы е обременения трудно для любой страны.  \n",
    "Выбросов не замечено.  \n",
    "\n",
    "**Number  of Credit Problems (Количество проблем с кредитом)**  \n",
    "Пропусков нет.   \n",
    "Подавляющий перевес категории 0 (86,3%), что говорит об отсутствии проблем с кредитами.  \n",
    "Выбросов не замечено.  \n",
    "\n",
    "**Bankruptcies (Банкротства)**  \n",
    "14 пропусков. Необходимо отработать заменив на медиану или моду.  \n",
    "Перевес в категории 0 (88,8%), что говорит об отсутствии банкротства.  \n",
    "Выбросов не замечено.  \n",
    "\n",
    "**Purpose (Цель кредита)**  \n",
    "Пропуски отстутствуют.  \n",
    "Перевес по категории debt consolidation (консолидация задолжности) - 79,3%.  \n",
    "Выбросов не замечено.  \n",
    "\n",
    "**Term (Срок кредита)**  \n",
    "Пропусков нет  \n",
    "Перевес категории коротких кредитов (Short Term) 74,1% по сравнению с длинными (Long Term) 25,9%.  \n",
    "Выбросов не замечено.  "
   ]
  },
  {
   "cell_type": "code",
   "execution_count": 66,
   "id": "f26d60ca-434c-42af-a114-95726d2ca8c8",
   "metadata": {},
   "outputs": [
    {
     "name": "stdout",
     "output_type": "stream",
     "text": [
      "Home Ownership\n",
      "\n",
      "Home Mortgage    1225\n",
      "Rent             1020\n",
      "Own Home          248\n",
      "Have Mortgage       7\n",
      "Name: Home Ownership, dtype: int64\n",
      "****************************************************************************************************\n",
      "\n",
      "Years in current job\n",
      "\n",
      "10+ years    810\n",
      "3 years      228\n",
      "2 years      212\n",
      "< 1 year     207\n",
      "5 years      169\n",
      "1 year       153\n",
      "4 years      152\n",
      "7 years      140\n",
      "6 years      137\n",
      "8 years      107\n",
      "9 years       99\n",
      "Name: Years in current job, dtype: int64\n",
      "****************************************************************************************************\n",
      "\n",
      "Tax Liens\n",
      "\n",
      "0.0     2445\n",
      "1.0       45\n",
      "2.0        5\n",
      "3.0        1\n",
      "4.0        1\n",
      "5.0        1\n",
      "6.0        1\n",
      "15.0       1\n",
      "Name: Tax Liens, dtype: int64\n",
      "****************************************************************************************************\n",
      "\n",
      "Number of Credit Problems\n",
      "\n",
      "0.0     2177\n",
      "1.0      280\n",
      "2.0       29\n",
      "3.0        7\n",
      "5.0        4\n",
      "4.0        1\n",
      "7.0        1\n",
      "15.0       1\n",
      "Name: Number of Credit Problems, dtype: int64\n",
      "****************************************************************************************************\n",
      "\n",
      "Bankruptcies\n",
      "\n",
      "0.0    2252\n",
      "1.0     234\n",
      "2.0       5\n",
      "3.0       3\n",
      "5.0       2\n",
      "4.0       1\n",
      "Name: Bankruptcies, dtype: int64\n",
      "****************************************************************************************************\n",
      "\n",
      "Purpose\n",
      "\n",
      "debt consolidation      1973\n",
      "other                    240\n",
      "home improvements        140\n",
      "buy a car                 34\n",
      "business loan             30\n",
      "medical bills             27\n",
      "buy house                 19\n",
      "take a trip               14\n",
      "major purchase             9\n",
      "small business             5\n",
      "educational expenses       3\n",
      "vacation                   3\n",
      "wedding                    2\n",
      "moving                     1\n",
      "Name: Purpose, dtype: int64\n",
      "****************************************************************************************************\n",
      "\n",
      "Term\n",
      "\n",
      "Short Term    1861\n",
      "Long Term      639\n",
      "Name: Term, dtype: int64\n",
      "****************************************************************************************************\n",
      "\n"
     ]
    }
   ],
   "source": [
    "for cat_colname in df_test.select_dtypes(include='category').columns:\n",
    "    print(str(cat_colname) + '\\n\\n' + str(df_test[cat_colname].value_counts()) + '\\n' + '*' * 100 + '\\n')"
   ]
  },
  {
   "cell_type": "markdown",
   "id": "44a4fffb-b004-444d-a5ae-a52e199d7134",
   "metadata": {},
   "source": [
    "<u>**Выводы (df_test):**</u>\n",
    "\n",
    "**Home  Ownership (Домовладение)**  \n",
    "Пропусков нет  \n",
    "Не понятно в чем разница между Home Mortgage (ипотека на жильё) и Have Mortgage (есть ипотека). Возможно, есть смысл объединить.   \n",
    "Выбросов не замечено.  \n",
    "\n",
    "**Years  in current job (Количество лет на текущем месте работы)**  \n",
    "86 пропусков. Можно их рассматривать как безработных и заменить на 0.  \n",
    "Большинство у категории 10+ лет работы - 32,4%  \n",
    "Выбросов не замечено.  \n",
    "\n",
    "**Tax Liens (Налоговые обременения)**  \n",
    "Нет пропусков.  \n",
    "Возможно, это закодированное значение налоговой нагрузки, т.к. представить, что у 97,8% отсутствуют налоговые обременения трудно для любой страны.  \n",
    "Аномальное значение 15, которое не встречалось в df_train. Возможно, частный случай или выброс. Кандидат на исключение.  \n",
    "\n",
    "**Number  of Credit Problems (Количество проблем с кредитом)**  \n",
    "Пропусков нет.  \n",
    "Подавляющий перевес категории 0 (87,1%), что говорит об отсутствии проблем с кредитами.  \n",
    "Аномальное значение 15, которое не встречалось в df_train. Возможно, частный случай или выброс. Кандидат на исключение.  \n",
    "\n",
    "**Примечание:**  \n",
    "Аномальные значения в Tax Liens и Number  of Credit Problems находятся в одной строчке.  \n",
    "\n",
    "**Bankruptcies (Банкротства)**  \n",
    "3 пропуска. Необходимо отработать заменив на медиану или моду.  \n",
    "Перевес в категории 0 (90%), что говорит об отсутствии банкротства.  \n",
    "Выбросов не замечено.  \n",
    "\n",
    "**Purpose (Цель кредита)**  \n",
    "Пропуски отстутствуют.  \n",
    "Перевес по категории debt consolidation (консолидация задолжности) - 78,9%.  \n",
    "Выбросов не замечено.  \n",
    "\n",
    "**Term (Срок кредита)**    \n",
    "Пропусков нет  \n",
    "Перевес категории коротких кредитов (Short Term) 74,4% по сравнению с длинными (Long Term) 25,6%.  \n",
    "Выбросов не замечено.  "
   ]
  },
  {
   "cell_type": "code",
   "execution_count": 70,
   "id": "d342d2ef-89f7-4a69-ae94-ad2357f19486",
   "metadata": {
    "tags": []
   },
   "outputs": [
    {
     "data": {
      "text/html": [
       "<div>\n",
       "<style scoped>\n",
       "    .dataframe tbody tr th:only-of-type {\n",
       "        vertical-align: middle;\n",
       "    }\n",
       "\n",
       "    .dataframe tbody tr th {\n",
       "        vertical-align: top;\n",
       "    }\n",
       "\n",
       "    .dataframe thead th {\n",
       "        text-align: right;\n",
       "    }\n",
       "</style>\n",
       "<table border=\"1\" class=\"dataframe\">\n",
       "  <thead>\n",
       "    <tr style=\"text-align: right;\">\n",
       "      <th></th>\n",
       "      <th>Home Ownership</th>\n",
       "      <th>Annual Income</th>\n",
       "      <th>Years in current job</th>\n",
       "      <th>Tax Liens</th>\n",
       "      <th>Number of Open Accounts</th>\n",
       "      <th>Years of Credit History</th>\n",
       "      <th>Maximum Open Credit</th>\n",
       "      <th>Number of Credit Problems</th>\n",
       "      <th>Months since last delinquent</th>\n",
       "      <th>Bankruptcies</th>\n",
       "      <th>Purpose</th>\n",
       "      <th>Term</th>\n",
       "      <th>Current Loan Amount</th>\n",
       "      <th>Current Credit Balance</th>\n",
       "      <th>Monthly Debt</th>\n",
       "      <th>Credit Score</th>\n",
       "    </tr>\n",
       "  </thead>\n",
       "  <tbody>\n",
       "    <tr>\n",
       "      <th>2282</th>\n",
       "      <td>Own Home</td>\n",
       "      <td>1410294.0</td>\n",
       "      <td>10+ years</td>\n",
       "      <td>15.0</td>\n",
       "      <td>5.0</td>\n",
       "      <td>20.1</td>\n",
       "      <td>478984.0</td>\n",
       "      <td>15.0</td>\n",
       "      <td>42.0</td>\n",
       "      <td>0.0</td>\n",
       "      <td>debt consolidation</td>\n",
       "      <td>Short Term</td>\n",
       "      <td>447392.0</td>\n",
       "      <td>301549.0</td>\n",
       "      <td>15513.0</td>\n",
       "      <td>746.0</td>\n",
       "    </tr>\n",
       "  </tbody>\n",
       "</table>\n",
       "</div>"
      ],
      "text/plain": [
       "     Home Ownership  Annual Income Years in current job Tax Liens  \\\n",
       "2282       Own Home      1410294.0            10+ years      15.0   \n",
       "\n",
       "      Number of Open Accounts  Years of Credit History  Maximum Open Credit  \\\n",
       "2282                      5.0                     20.1             478984.0   \n",
       "\n",
       "     Number of Credit Problems  Months since last delinquent Bankruptcies  \\\n",
       "2282                      15.0                          42.0          0.0   \n",
       "\n",
       "                 Purpose        Term  Current Loan Amount  \\\n",
       "2282  debt consolidation  Short Term             447392.0   \n",
       "\n",
       "      Current Credit Balance  Monthly Debt  Credit Score  \n",
       "2282                301549.0       15513.0         746.0  "
      ]
     },
     "execution_count": 70,
     "metadata": {},
     "output_type": "execute_result"
    }
   ],
   "source": [
    "df_test.loc[df_test['Tax Liens'] == 15.0]"
   ]
  },
  {
   "cell_type": "markdown",
   "id": "593bb2a8-1f90-40cb-9502-8917ff0f567d",
   "metadata": {
    "tags": []
   },
   "source": [
    "## Обработка пропусков"
   ]
  },
  {
   "cell_type": "markdown",
   "id": "7556ad4d-d233-4f4b-8cb2-22d1f5efdaee",
   "metadata": {
    "tags": []
   },
   "source": [
    "### Определение количества пропусков в датасетах"
   ]
  },
  {
   "cell_type": "code",
   "execution_count": 64,
   "id": "8bc7ee9a-64c2-4486-bd6d-eb592c6960aa",
   "metadata": {
    "tags": []
   },
   "outputs": [
    {
     "data": {
      "text/html": [
       "<div>\n",
       "<style scoped>\n",
       "    .dataframe tbody tr th:only-of-type {\n",
       "        vertical-align: middle;\n",
       "    }\n",
       "\n",
       "    .dataframe tbody tr th {\n",
       "        vertical-align: top;\n",
       "    }\n",
       "\n",
       "    .dataframe thead th {\n",
       "        text-align: right;\n",
       "    }\n",
       "</style>\n",
       "<table border=\"1\" class=\"dataframe\">\n",
       "  <thead>\n",
       "    <tr style=\"text-align: right;\">\n",
       "      <th></th>\n",
       "      <th>Total</th>\n",
       "      <th>Persent</th>\n",
       "    </tr>\n",
       "  </thead>\n",
       "  <tbody>\n",
       "    <tr>\n",
       "      <th>Months since last delinquent</th>\n",
       "      <td>4081</td>\n",
       "      <td>54.413333</td>\n",
       "    </tr>\n",
       "    <tr>\n",
       "      <th>Credit Score</th>\n",
       "      <td>1557</td>\n",
       "      <td>20.760000</td>\n",
       "    </tr>\n",
       "    <tr>\n",
       "      <th>Annual Income</th>\n",
       "      <td>1557</td>\n",
       "      <td>20.760000</td>\n",
       "    </tr>\n",
       "    <tr>\n",
       "      <th>Years in current job</th>\n",
       "      <td>371</td>\n",
       "      <td>4.946667</td>\n",
       "    </tr>\n",
       "    <tr>\n",
       "      <th>Bankruptcies</th>\n",
       "      <td>14</td>\n",
       "      <td>0.186667</td>\n",
       "    </tr>\n",
       "    <tr>\n",
       "      <th>Purpose</th>\n",
       "      <td>0</td>\n",
       "      <td>0.000000</td>\n",
       "    </tr>\n",
       "  </tbody>\n",
       "</table>\n",
       "</div>"
      ],
      "text/plain": [
       "                              Total    Persent\n",
       "Months since last delinquent   4081  54.413333\n",
       "Credit Score                   1557  20.760000\n",
       "Annual Income                  1557  20.760000\n",
       "Years in current job            371   4.946667\n",
       "Bankruptcies                     14   0.186667\n",
       "Purpose                           0   0.000000"
      ]
     },
     "execution_count": 64,
     "metadata": {},
     "output_type": "execute_result"
    }
   ],
   "source": [
    "total = df_train.isnull().sum().sort_values(ascending=False)\n",
    "percentage = (df_train.isnull().sum()/df_train.isnull().count()).sort_values(ascending=False) * 100\n",
    "missing_data = pd.concat([total, percentage], axis=1, keys=['Total', 'Persent'])\n",
    "missing_data.head(6)"
   ]
  },
  {
   "cell_type": "code",
   "execution_count": 65,
   "id": "f898e31f-c422-4c9b-882c-393f71df73f0",
   "metadata": {},
   "outputs": [
    {
     "data": {
      "text/html": [
       "<div>\n",
       "<style scoped>\n",
       "    .dataframe tbody tr th:only-of-type {\n",
       "        vertical-align: middle;\n",
       "    }\n",
       "\n",
       "    .dataframe tbody tr th {\n",
       "        vertical-align: top;\n",
       "    }\n",
       "\n",
       "    .dataframe thead th {\n",
       "        text-align: right;\n",
       "    }\n",
       "</style>\n",
       "<table border=\"1\" class=\"dataframe\">\n",
       "  <thead>\n",
       "    <tr style=\"text-align: right;\">\n",
       "      <th></th>\n",
       "      <th>Total</th>\n",
       "      <th>Persent</th>\n",
       "    </tr>\n",
       "  </thead>\n",
       "  <tbody>\n",
       "    <tr>\n",
       "      <th>Months since last delinquent</th>\n",
       "      <td>1358</td>\n",
       "      <td>54.32</td>\n",
       "    </tr>\n",
       "    <tr>\n",
       "      <th>Annual Income</th>\n",
       "      <td>513</td>\n",
       "      <td>20.52</td>\n",
       "    </tr>\n",
       "    <tr>\n",
       "      <th>Credit Score</th>\n",
       "      <td>513</td>\n",
       "      <td>20.52</td>\n",
       "    </tr>\n",
       "    <tr>\n",
       "      <th>Years in current job</th>\n",
       "      <td>86</td>\n",
       "      <td>3.44</td>\n",
       "    </tr>\n",
       "    <tr>\n",
       "      <th>Bankruptcies</th>\n",
       "      <td>3</td>\n",
       "      <td>0.12</td>\n",
       "    </tr>\n",
       "    <tr>\n",
       "      <th>Home Ownership</th>\n",
       "      <td>0</td>\n",
       "      <td>0.00</td>\n",
       "    </tr>\n",
       "  </tbody>\n",
       "</table>\n",
       "</div>"
      ],
      "text/plain": [
       "                              Total  Persent\n",
       "Months since last delinquent   1358    54.32\n",
       "Annual Income                   513    20.52\n",
       "Credit Score                    513    20.52\n",
       "Years in current job             86     3.44\n",
       "Bankruptcies                      3     0.12\n",
       "Home Ownership                    0     0.00"
      ]
     },
     "execution_count": 65,
     "metadata": {},
     "output_type": "execute_result"
    }
   ],
   "source": [
    "total = df_test.isnull().sum().sort_values(ascending=False)\n",
    "percentage = (df_test.isnull().sum()/df_test.isnull().count()).sort_values(ascending=False) * 100\n",
    "missing_data = pd.concat([total, percentage], axis=1, keys=['Total', 'Persent'])\n",
    "missing_data.head(6)"
   ]
  },
  {
   "cell_type": "markdown",
   "id": "bd61e7d3-ceb1-4a42-b199-47399eb2cfef",
   "metadata": {},
   "source": [
    "Обратим внимание на пропуски в параметрах Credit Score (баллы кредитного рейтинга) и Annual Income (годовой доход). В обоих датасетах их количество совпадает. Нужно будет проверить на таблице корреляции."
   ]
  },
  {
   "cell_type": "markdown",
   "id": "584c943a-53f4-462f-9d23-356f3c36507f",
   "metadata": {},
   "source": [
    "## Обработка выбросов"
   ]
  },
  {
   "cell_type": "code",
   "execution_count": null,
   "id": "4a685026-e505-4203-a462-c599642a0d81",
   "metadata": {
    "jupyter": {
     "source_hidden": true
    },
    "tags": []
   },
   "outputs": [],
   "source": []
  }
 ],
 "metadata": {
  "kernelspec": {
   "display_name": "Python 3 (ipykernel)",
   "language": "python",
   "name": "python3"
  },
  "language_info": {
   "codemirror_mode": {
    "name": "ipython",
    "version": 3
   },
   "file_extension": ".py",
   "mimetype": "text/x-python",
   "name": "python",
   "nbconvert_exporter": "python",
   "pygments_lexer": "ipython3",
   "version": "3.8.8"
  }
 },
 "nbformat": 4,
 "nbformat_minor": 5
}
